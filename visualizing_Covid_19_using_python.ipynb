{
  "nbformat": 4,
  "nbformat_minor": 0,
  "metadata": {
    "colab": {
      "name": "visualizing Covid 19 using python.ipynb",
      "provenance": [],
      "authorship_tag": "ABX9TyPWcnuHoTm1zWCVvJVBX/ja",
      "include_colab_link": true
    },
    "kernelspec": {
      "name": "python3",
      "display_name": "Python 3"
    }
  },
  "cells": [
    {
      "cell_type": "markdown",
      "metadata": {
        "id": "view-in-github",
        "colab_type": "text"
      },
      "source": [
        "<a href=\"https://colab.research.google.com/github/Gichere/visualizing-covid19-worldwide/blob/main/visualizing_Covid_19_using_python.ipynb\" target=\"_parent\"><img src=\"https://colab.research.google.com/assets/colab-badge.svg\" alt=\"Open In Colab\"/></a>"
      ]
    },
    {
      "cell_type": "markdown",
      "metadata": {
        "id": "G3GpMB_hMzSz"
      },
      "source": [
        "# Installing & Importing modules\n",
        "\n",
        "Installing all the modules we'll need for this project.\n"
      ]
    },
    {
      "cell_type": "code",
      "metadata": {
        "colab": {
          "base_uri": "https://localhost:8080/"
        },
        "id": "RN3aTMFYMmjW",
        "outputId": "02e6d8fa-72b3-4f14-b24e-68d97ccc8ebd"
      },
      "source": [
        "# Install Plotly\n",
        "!pip install Plotly==4.12\n",
        "\n",
        "# Install Dash\n",
        "!pip install dash\n",
        "!pip install dash-html-components\n",
        "!pip install dash-core-components\n",
        "!pip install dash-table\n",
        "\n",
        "#Install Pycountry\n",
        "!pip install pycountry"
      ],
      "execution_count": 1,
      "outputs": [
        {
          "output_type": "stream",
          "text": [
            "Collecting Plotly==4.12\n",
            "\u001b[?25l  Downloading https://files.pythonhosted.org/packages/a6/66/af86e9d9bf1a3e4f2dabebeabd02a32e8ddf671a5d072b3af2b011efea99/plotly-4.12.0-py2.py3-none-any.whl (13.1MB)\n",
            "\u001b[K     |████████████████████████████████| 13.1MB 324kB/s \n",
            "\u001b[?25hRequirement already satisfied: retrying>=1.3.3 in /usr/local/lib/python3.6/dist-packages (from Plotly==4.12) (1.3.3)\n",
            "Requirement already satisfied: six in /usr/local/lib/python3.6/dist-packages (from Plotly==4.12) (1.15.0)\n",
            "Installing collected packages: Plotly\n",
            "  Found existing installation: plotly 4.4.1\n",
            "    Uninstalling plotly-4.4.1:\n",
            "      Successfully uninstalled plotly-4.4.1\n",
            "Successfully installed Plotly-4.12.0\n",
            "Collecting dash\n",
            "\u001b[?25l  Downloading https://files.pythonhosted.org/packages/dd/17/55244363969638edd1151de0ea4aa10e6a7849b42d7d0994e3082514e19d/dash-1.18.1.tar.gz (74kB)\n",
            "\u001b[K     |████████████████████████████████| 81kB 3.5MB/s \n",
            "\u001b[?25hRequirement already satisfied: Flask>=1.0.4 in /usr/local/lib/python3.6/dist-packages (from dash) (1.1.2)\n",
            "Collecting flask-compress\n",
            "  Downloading https://files.pythonhosted.org/packages/b2/7a/9c4641f975fb9daaf945dc39da6a52fd5693ab3bbc2d53780eab3b5106f4/Flask_Compress-1.8.0-py3-none-any.whl\n",
            "Requirement already satisfied: plotly in /usr/local/lib/python3.6/dist-packages (from dash) (4.12.0)\n",
            "Collecting dash_renderer==1.8.3\n",
            "\u001b[?25l  Downloading https://files.pythonhosted.org/packages/72/fe/59a322edb128ad15205002c7b81e3f5e580f6791c4a100183289e05dbfcb/dash_renderer-1.8.3.tar.gz (1.0MB)\n",
            "\u001b[K     |████████████████████████████████| 1.0MB 8.6MB/s \n",
            "\u001b[?25hCollecting dash-core-components==1.14.1\n",
            "\u001b[?25l  Downloading https://files.pythonhosted.org/packages/0f/ab/5ffeeed41117383d02485f5b9204dcfaa074bfbb3ff2559afac7b904ad5c/dash_core_components-1.14.1.tar.gz (3.5MB)\n",
            "\u001b[K     |████████████████████████████████| 3.5MB 31.2MB/s \n",
            "\u001b[?25hCollecting dash-html-components==1.1.1\n",
            "\u001b[?25l  Downloading https://files.pythonhosted.org/packages/02/ba/bb9427c62feb25bfbaf243894eeeb4e7c67a92b426ed0575a167100e436e/dash_html_components-1.1.1.tar.gz (188kB)\n",
            "\u001b[K     |████████████████████████████████| 194kB 36.6MB/s \n",
            "\u001b[?25hCollecting dash-table==4.11.1\n",
            "\u001b[?25l  Downloading https://files.pythonhosted.org/packages/79/4b/de20584b7dc82dc6e572e8b596d21b1c6e39f13d19e8c9e6f1d67bed67fd/dash_table-4.11.1.tar.gz (1.8MB)\n",
            "\u001b[K     |████████████████████████████████| 1.8MB 33.7MB/s \n",
            "\u001b[?25hRequirement already satisfied: future in /usr/local/lib/python3.6/dist-packages (from dash) (0.16.0)\n",
            "Requirement already satisfied: Jinja2>=2.10.1 in /usr/local/lib/python3.6/dist-packages (from Flask>=1.0.4->dash) (2.11.2)\n",
            "Requirement already satisfied: Werkzeug>=0.15 in /usr/local/lib/python3.6/dist-packages (from Flask>=1.0.4->dash) (1.0.1)\n",
            "Requirement already satisfied: click>=5.1 in /usr/local/lib/python3.6/dist-packages (from Flask>=1.0.4->dash) (7.1.2)\n",
            "Requirement already satisfied: itsdangerous>=0.24 in /usr/local/lib/python3.6/dist-packages (from Flask>=1.0.4->dash) (1.1.0)\n",
            "Collecting brotli\n",
            "\u001b[?25l  Downloading https://files.pythonhosted.org/packages/b4/d3/7c98f05b7b9103e2f3a112ba42f269c798155b3e5404fb80bb8f823aaebe/Brotli-1.0.9-cp36-cp36m-manylinux1_x86_64.whl (357kB)\n",
            "\u001b[K     |████████████████████████████████| 358kB 43.9MB/s \n",
            "\u001b[?25hRequirement already satisfied: six in /usr/local/lib/python3.6/dist-packages (from plotly->dash) (1.15.0)\n",
            "Requirement already satisfied: retrying>=1.3.3 in /usr/local/lib/python3.6/dist-packages (from plotly->dash) (1.3.3)\n",
            "Requirement already satisfied: MarkupSafe>=0.23 in /usr/local/lib/python3.6/dist-packages (from Jinja2>=2.10.1->Flask>=1.0.4->dash) (1.1.1)\n",
            "Building wheels for collected packages: dash, dash-renderer, dash-core-components, dash-html-components, dash-table\n",
            "  Building wheel for dash (setup.py) ... \u001b[?25l\u001b[?25hdone\n",
            "  Created wheel for dash: filename=dash-1.18.1-cp36-none-any.whl size=83681 sha256=3fcbb3cc6628308284d3929f529f8cd7c2a5d354a6c2defd7283c24d488de951\n",
            "  Stored in directory: /root/.cache/pip/wheels/eb/56/fb/79b2169ce9fcb79753ec57a16abb8f0b7750b4c63d7eb3cea9\n",
            "  Building wheel for dash-renderer (setup.py) ... \u001b[?25l\u001b[?25hdone\n",
            "  Created wheel for dash-renderer: filename=dash_renderer-1.8.3-cp36-none-any.whl size=1013944 sha256=8e84dd9a1e120edd370650ad547ee3220a7f0f822494fb00d63b7f2145700a8a\n",
            "  Stored in directory: /root/.cache/pip/wheels/cf/2b/5f/0928a6d1b7ebf280f21a2e925f36d662e6ba83e00b82c6b6bf\n",
            "  Building wheel for dash-core-components (setup.py) ... \u001b[?25l\u001b[?25hdone\n",
            "  Created wheel for dash-core-components: filename=dash_core_components-1.14.1-cp36-none-any.whl size=3525929 sha256=b56d79b6320eca446e55c87de79fba9dfdda47eccf1ccfbc64affa7294150ad9\n",
            "  Stored in directory: /root/.cache/pip/wheels/e3/20/48/9022e1f2cb2fed4d9925370d0e17cbb3ab1164f3742d9b5e5a\n",
            "  Building wheel for dash-html-components (setup.py) ... \u001b[?25l\u001b[?25hdone\n",
            "  Created wheel for dash-html-components: filename=dash_html_components-1.1.1-cp36-none-any.whl size=427893 sha256=890c30075afe3669cf89942b9bbc4a13603cd166aff98fa727cde1c8861117ce\n",
            "  Stored in directory: /root/.cache/pip/wheels/8d/01/46/78e4de185a8a4a2da8ba31da16c52170f036d4cebeeb6e07a2\n",
            "  Building wheel for dash-table (setup.py) ... \u001b[?25l\u001b[?25hdone\n",
            "  Created wheel for dash-table: filename=dash_table-4.11.1-cp36-none-any.whl size=1839868 sha256=eccfbaa6b0954bb163abcd5d920923afb5a9fc2af11a7bad0ff139f6b3fb8520\n",
            "  Stored in directory: /root/.cache/pip/wheels/53/a0/0e/1105943524ee7060c5c45a22e45c77777a3d8801f2fe49e445\n",
            "Successfully built dash dash-renderer dash-core-components dash-html-components dash-table\n",
            "Installing collected packages: brotli, flask-compress, dash-renderer, dash-core-components, dash-html-components, dash-table, dash\n",
            "Successfully installed brotli-1.0.9 dash-1.18.1 dash-core-components-1.14.1 dash-html-components-1.1.1 dash-renderer-1.8.3 dash-table-4.11.1 flask-compress-1.8.0\n",
            "Requirement already satisfied: dash-html-components in /usr/local/lib/python3.6/dist-packages (1.1.1)\n",
            "Requirement already satisfied: dash-core-components in /usr/local/lib/python3.6/dist-packages (1.14.1)\n",
            "Requirement already satisfied: dash-table in /usr/local/lib/python3.6/dist-packages (4.11.1)\n",
            "Collecting pycountry\n",
            "\u001b[?25l  Downloading https://files.pythonhosted.org/packages/76/73/6f1a412f14f68c273feea29a6ea9b9f1e268177d32e0e69ad6790d306312/pycountry-20.7.3.tar.gz (10.1MB)\n",
            "\u001b[K     |████████████████████████████████| 10.1MB 4.0MB/s \n",
            "\u001b[?25hBuilding wheels for collected packages: pycountry\n",
            "  Building wheel for pycountry (setup.py) ... \u001b[?25l\u001b[?25hdone\n",
            "  Created wheel for pycountry: filename=pycountry-20.7.3-py2.py3-none-any.whl size=10746864 sha256=8c0ab6eef7e2134c9f8c17bd3df4ec9b1408f2855c01779af1baef08a0c8e3f7\n",
            "  Stored in directory: /root/.cache/pip/wheels/33/4e/a6/be297e6b83567e537bed9df4a93f8590ec01c1acfbcd405348\n",
            "Successfully built pycountry\n",
            "Installing collected packages: pycountry\n",
            "Successfully installed pycountry-20.7.3\n"
          ],
          "name": "stdout"
        }
      ]
    },
    {
      "cell_type": "code",
      "metadata": {
        "id": "LxseK3XkNMDI"
      },
      "source": [
        "import os.path\n",
        "import sys, json\n",
        "import requests\n",
        "import subprocess\n",
        "\n",
        "import numpy as np\n",
        "import pandas as pd\n",
        "import plotly.express as px\n",
        "import pycountry as pc\n",
        "\n",
        "from requests.exceptions import RequestException\n",
        "from requests.adapters import HTTPAdapter\n",
        "from requests.packages.urllib3.util.retry import Retry\n",
        "\n",
        "from collections import namedtuple"
      ],
      "execution_count": 2,
      "outputs": []
    },
    {
      "cell_type": "markdown",
      "metadata": {
        "id": "1pe1zEwzNblG"
      },
      "source": [
        "## Downloading The Datasets\n",
        "\n",
        "I will be using the 2020 World Bank Human Capital Index and the COVID-19 Worldometer Daily Snapshops datasets obtained from Kaggle for this project. \n"
      ]
    },
    {
      "cell_type": "code",
      "metadata": {
        "id": "MUpIlSIlNYeo"
      },
      "source": [
        "url_covid = 'https://raw.githubusercontent.com/Gichere/datasets/main/worldometers_snapshots_October11_to_October12.csv'\n",
        "url_hci = 'https://raw.githubusercontent.com/Gichere/datasets/main/hci_MaleFemale_september_2020.csv'"
      ],
      "execution_count": 3,
      "outputs": []
    },
    {
      "cell_type": "markdown",
      "metadata": {
        "id": "0aoSTzQaXHNW"
      },
      "source": [
        "## Loading the datasets"
      ]
    },
    {
      "cell_type": "code",
      "metadata": {
        "id": "5yVW3x8MVoHm"
      },
      "source": [
        "covid_df = pd.read_csv(url_covid,usecols=[0, 1, 2, 3, 4, 5, 6])\n",
        "hci_df = pd.read_csv(url_hci,usecols=['Country Name', 'Income Group', 'Expected Years of School'])"
      ],
      "execution_count": 4,
      "outputs": []
    },
    {
      "cell_type": "markdown",
      "metadata": {
        "id": "Nld46jeBXaoQ"
      },
      "source": [
        "## Data preprocessing and wrangling"
      ]
    },
    {
      "cell_type": "code",
      "metadata": {
        "colab": {
          "base_uri": "https://localhost:8080/",
          "height": 395
        },
        "id": "Rs-QFPFhWssl",
        "outputId": "da44757a-2374-450a-d597-8a2093668299"
      },
      "source": [
        "display(covid_df.head())\n",
        "display(hci_df.head())"
      ],
      "execution_count": 5,
      "outputs": [
        {
          "output_type": "display_data",
          "data": {
            "text/html": [
              "<div>\n",
              "<style scoped>\n",
              "    .dataframe tbody tr th:only-of-type {\n",
              "        vertical-align: middle;\n",
              "    }\n",
              "\n",
              "    .dataframe tbody tr th {\n",
              "        vertical-align: top;\n",
              "    }\n",
              "\n",
              "    .dataframe thead th {\n",
              "        text-align: right;\n",
              "    }\n",
              "</style>\n",
              "<table border=\"1\" class=\"dataframe\">\n",
              "  <thead>\n",
              "    <tr style=\"text-align: right;\">\n",
              "      <th></th>\n",
              "      <th>Date</th>\n",
              "      <th>Country</th>\n",
              "      <th>Population</th>\n",
              "      <th>Total Tests</th>\n",
              "      <th>Total Cases</th>\n",
              "      <th>Total Deaths</th>\n",
              "      <th>Total Recovered</th>\n",
              "    </tr>\n",
              "  </thead>\n",
              "  <tbody>\n",
              "    <tr>\n",
              "      <th>0</th>\n",
              "      <td>2020-10-11</td>\n",
              "      <td>USA</td>\n",
              "      <td>331552784</td>\n",
              "      <td>118486898.0</td>\n",
              "      <td>7991998</td>\n",
              "      <td>219695.0</td>\n",
              "      <td>5128162.0</td>\n",
              "    </tr>\n",
              "    <tr>\n",
              "      <th>1</th>\n",
              "      <td>2020-10-11</td>\n",
              "      <td>India</td>\n",
              "      <td>1383826697</td>\n",
              "      <td>86877242.0</td>\n",
              "      <td>7119300</td>\n",
              "      <td>109184.0</td>\n",
              "      <td>6146427.0</td>\n",
              "    </tr>\n",
              "    <tr>\n",
              "      <th>2</th>\n",
              "      <td>2020-10-11</td>\n",
              "      <td>Brazil</td>\n",
              "      <td>212986866</td>\n",
              "      <td>17900000.0</td>\n",
              "      <td>5094979</td>\n",
              "      <td>150506.0</td>\n",
              "      <td>4470165.0</td>\n",
              "    </tr>\n",
              "    <tr>\n",
              "      <th>3</th>\n",
              "      <td>2020-10-11</td>\n",
              "      <td>Russia</td>\n",
              "      <td>145952340</td>\n",
              "      <td>50781349.0</td>\n",
              "      <td>1298718</td>\n",
              "      <td>22597.0</td>\n",
              "      <td>1020442.0</td>\n",
              "    </tr>\n",
              "    <tr>\n",
              "      <th>4</th>\n",
              "      <td>2020-10-11</td>\n",
              "      <td>Colombia</td>\n",
              "      <td>51035485</td>\n",
              "      <td>4173863.0</td>\n",
              "      <td>911316</td>\n",
              "      <td>27834.0</td>\n",
              "      <td>789787.0</td>\n",
              "    </tr>\n",
              "  </tbody>\n",
              "</table>\n",
              "</div>"
            ],
            "text/plain": [
              "         Date   Country  Population  ...  Total Cases  Total Deaths  Total Recovered\n",
              "0  2020-10-11       USA   331552784  ...      7991998      219695.0        5128162.0\n",
              "1  2020-10-11     India  1383826697  ...      7119300      109184.0        6146427.0\n",
              "2  2020-10-11    Brazil   212986866  ...      5094979      150506.0        4470165.0\n",
              "3  2020-10-11    Russia   145952340  ...      1298718       22597.0        1020442.0\n",
              "4  2020-10-11  Colombia    51035485  ...       911316       27834.0         789787.0\n",
              "\n",
              "[5 rows x 7 columns]"
            ]
          },
          "metadata": {
            "tags": []
          }
        },
        {
          "output_type": "display_data",
          "data": {
            "text/html": [
              "<div>\n",
              "<style scoped>\n",
              "    .dataframe tbody tr th:only-of-type {\n",
              "        vertical-align: middle;\n",
              "    }\n",
              "\n",
              "    .dataframe tbody tr th {\n",
              "        vertical-align: top;\n",
              "    }\n",
              "\n",
              "    .dataframe thead th {\n",
              "        text-align: right;\n",
              "    }\n",
              "</style>\n",
              "<table border=\"1\" class=\"dataframe\">\n",
              "  <thead>\n",
              "    <tr style=\"text-align: right;\">\n",
              "      <th></th>\n",
              "      <th>Country Name</th>\n",
              "      <th>Income Group</th>\n",
              "      <th>Expected Years of School</th>\n",
              "    </tr>\n",
              "  </thead>\n",
              "  <tbody>\n",
              "    <tr>\n",
              "      <th>0</th>\n",
              "      <td>Afghanistan</td>\n",
              "      <td>Low income</td>\n",
              "      <td>8.9</td>\n",
              "    </tr>\n",
              "    <tr>\n",
              "      <th>1</th>\n",
              "      <td>Albania</td>\n",
              "      <td>Upper middle income</td>\n",
              "      <td>12.9</td>\n",
              "    </tr>\n",
              "    <tr>\n",
              "      <th>2</th>\n",
              "      <td>Algeria</td>\n",
              "      <td>Lower middle income</td>\n",
              "      <td>11.8</td>\n",
              "    </tr>\n",
              "    <tr>\n",
              "      <th>3</th>\n",
              "      <td>Angola</td>\n",
              "      <td>Lower middle income</td>\n",
              "      <td>8.1</td>\n",
              "    </tr>\n",
              "    <tr>\n",
              "      <th>4</th>\n",
              "      <td>Antigua and Barbuda</td>\n",
              "      <td>High income</td>\n",
              "      <td>13.0</td>\n",
              "    </tr>\n",
              "  </tbody>\n",
              "</table>\n",
              "</div>"
            ],
            "text/plain": [
              "          Country Name         Income Group  Expected Years of School\n",
              "0          Afghanistan           Low income                       8.9\n",
              "1              Albania  Upper middle income                      12.9\n",
              "2              Algeria  Lower middle income                      11.8\n",
              "3               Angola  Lower middle income                       8.1\n",
              "4  Antigua and Barbuda          High income                      13.0"
            ]
          },
          "metadata": {
            "tags": []
          }
        }
      ]
    },
    {
      "cell_type": "markdown",
      "metadata": {
        "id": "5wMeBb2DXwzA"
      },
      "source": [
        "Looking at the datasets: \n",
        "* In **covid_df**, there are two instances for every country, each for a separate date. \n",
        "* The country names for the two datasets differ - for example, the U.S. is named *'USA'* in **covid_df** and *'United States'* in **hci_df**. \n",
        "* The column names are written in a format that makes them harder to work with."
      ]
    },
    {
      "cell_type": "markdown",
      "metadata": {
        "id": "QH2S8HAEX3XF"
      },
      "source": [
        "## Cleaning The Data\n",
        "\n",
        "To deal with the column names, a function will be written that will run over both datasets to turn their column names to snakecase to make it easier to work with.\n"
      ]
    },
    {
      "cell_type": "code",
      "metadata": {
        "id": "fUgXt1smW9Pu"
      },
      "source": [
        "def to_snakecase (cols):\n",
        "  map_dict = {}\n",
        "  for col in cols:\n",
        "    map_dict[col] = col.lower().strip().replace(' ', '_')\n",
        "  return map_dict"
      ],
      "execution_count": 6,
      "outputs": []
    },
    {
      "cell_type": "markdown",
      "metadata": {
        "id": "6C3mWSzJYVeu"
      },
      "source": [
        "To deal with the different country names, a function will be defined  that will map them to the same format across both datasets using the Pycountry library."
      ]
    },
    {
      "cell_type": "code",
      "metadata": {
        "id": "q66nAdl0Xtwj"
      },
      "source": [
        "def normalize_country (data):\n",
        "  if pc.countries.get(official_name=data):\n",
        "    return pc.countries.get(official_name=data).name\n",
        "  elif pc.countries.get(name=data):\n",
        "    return pc.countries.get(name=data).name\n",
        "  elif pc.countries.get(alpha_3=data):\n",
        "    return pc.countries.get(alpha_3=data).name\n",
        "  elif pc.countries.get(alpha_2=data):\n",
        "    return pc.countries.get(alpha_2=data).name"
      ],
      "execution_count": 7,
      "outputs": []
    },
    {
      "cell_type": "markdown",
      "metadata": {
        "id": "EYh_Kw7UYtA4"
      },
      "source": [
        "When run the to_snakecase function across both datasets and manually set the country_name column to country in hci_df so we can use it to merge both of them later. Then, in covid_df, we limit the dataset to the most recent data, dropping the data from earlier days. And, finally, we apply the normalize_country function to both datasets to the country names match across both of them."
      ]
    },
    {
      "cell_type": "code",
      "metadata": {
        "id": "b0Pp45QeYjL4"
      },
      "source": [
        "covid_df.rename(to_snakecase(covid_df.columns), axis=1, inplace=True)\n",
        "covid_df = covid_df[covid_df.date == '2020-10-12']\n",
        "covid_df.drop('date', axis=1, inplace=True)\n",
        "covid_df.country = covid_df.country.apply(normalize_country)"
      ],
      "execution_count": 8,
      "outputs": []
    },
    {
      "cell_type": "code",
      "metadata": {
        "id": "3V5LWHj0Y7R3"
      },
      "source": [
        "hci_df.rename(to_snakecase(hci_df.columns), axis=1, inplace=True)\n",
        "hci_df.rename({'country_name':'country'}, axis=1, inplace=True)\n",
        "hci_df.country = hci_df.country.apply(normalize_country)"
      ],
      "execution_count": 9,
      "outputs": []
    },
    {
      "cell_type": "markdown",
      "metadata": {
        "id": "CxnOsMc8ZAtb"
      },
      "source": [
        "## Merging The Datasets\n",
        "\n",
        "With the problems taken care of, we can now merge both datasets into a single final dataset to work with, using the pd.merge method for such.\n"
      ]
    },
    {
      "cell_type": "code",
      "metadata": {
        "colab": {
          "base_uri": "https://localhost:8080/",
          "height": 206
        },
        "id": "SvgF0GLkZC5P",
        "outputId": "2cb9ed9c-c03d-4b9e-e936-7a4702deb6c7"
      },
      "source": [
        "data = pd.merge(left=covid_df, right=hci_df, on='country')\n",
        "data = data[data.country.notnull()].reset_index(drop=True)\n",
        "data.head()"
      ],
      "execution_count": 10,
      "outputs": [
        {
          "output_type": "execute_result",
          "data": {
            "text/html": [
              "<div>\n",
              "<style scoped>\n",
              "    .dataframe tbody tr th:only-of-type {\n",
              "        vertical-align: middle;\n",
              "    }\n",
              "\n",
              "    .dataframe tbody tr th {\n",
              "        vertical-align: top;\n",
              "    }\n",
              "\n",
              "    .dataframe thead th {\n",
              "        text-align: right;\n",
              "    }\n",
              "</style>\n",
              "<table border=\"1\" class=\"dataframe\">\n",
              "  <thead>\n",
              "    <tr style=\"text-align: right;\">\n",
              "      <th></th>\n",
              "      <th>country</th>\n",
              "      <th>population</th>\n",
              "      <th>total_tests</th>\n",
              "      <th>total_cases</th>\n",
              "      <th>total_deaths</th>\n",
              "      <th>total_recovered</th>\n",
              "      <th>income_group</th>\n",
              "      <th>expected_years_of_school</th>\n",
              "    </tr>\n",
              "  </thead>\n",
              "  <tbody>\n",
              "    <tr>\n",
              "      <th>0</th>\n",
              "      <td>United States</td>\n",
              "      <td>331552784</td>\n",
              "      <td>119497624.0</td>\n",
              "      <td>8037789</td>\n",
              "      <td>220011.0</td>\n",
              "      <td>5184615.0</td>\n",
              "      <td>High income</td>\n",
              "      <td>12.9</td>\n",
              "    </tr>\n",
              "    <tr>\n",
              "      <th>1</th>\n",
              "      <td>India</td>\n",
              "      <td>1383826697</td>\n",
              "      <td>87872093.0</td>\n",
              "      <td>7173565</td>\n",
              "      <td>109894.0</td>\n",
              "      <td>6224792.0</td>\n",
              "      <td>Lower middle income</td>\n",
              "      <td>11.1</td>\n",
              "    </tr>\n",
              "    <tr>\n",
              "      <th>2</th>\n",
              "      <td>Brazil</td>\n",
              "      <td>212986866</td>\n",
              "      <td>17900000.0</td>\n",
              "      <td>5103408</td>\n",
              "      <td>150709.0</td>\n",
              "      <td>4495269.0</td>\n",
              "      <td>Upper middle income</td>\n",
              "      <td>11.9</td>\n",
              "    </tr>\n",
              "    <tr>\n",
              "      <th>3</th>\n",
              "      <td>Colombia</td>\n",
              "      <td>51035485</td>\n",
              "      <td>4202181.0</td>\n",
              "      <td>919083</td>\n",
              "      <td>27985.0</td>\n",
              "      <td>798396.0</td>\n",
              "      <td>Upper middle income</td>\n",
              "      <td>12.9</td>\n",
              "    </tr>\n",
              "    <tr>\n",
              "      <th>4</th>\n",
              "      <td>Spain</td>\n",
              "      <td>46759952</td>\n",
              "      <td>14590713.0</td>\n",
              "      <td>918223</td>\n",
              "      <td>33124.0</td>\n",
              "      <td>NaN</td>\n",
              "      <td>High income</td>\n",
              "      <td>13.0</td>\n",
              "    </tr>\n",
              "  </tbody>\n",
              "</table>\n",
              "</div>"
            ],
            "text/plain": [
              "         country  population  ...         income_group  expected_years_of_school\n",
              "0  United States   331552784  ...          High income                      12.9\n",
              "1          India  1383826697  ...  Lower middle income                      11.1\n",
              "2         Brazil   212986866  ...  Upper middle income                      11.9\n",
              "3       Colombia    51035485  ...  Upper middle income                      12.9\n",
              "4          Spain    46759952  ...          High income                      13.0\n",
              "\n",
              "[5 rows x 8 columns]"
            ]
          },
          "metadata": {
            "tags": []
          },
          "execution_count": 10
        }
      ]
    },
    {
      "cell_type": "markdown",
      "metadata": {
        "id": "pWdmJ7y4ZRs0"
      },
      "source": [
        "## Plotting The Data\n",
        "\n",
        "For this project, we'll be creating the follwing three plots and grouping them up together into one final dashboard using plotly dash's interactive features.\n"
      ]
    },
    {
      "cell_type": "markdown",
      "metadata": {
        "id": "ovyYH24CZac5"
      },
      "source": [
        "## Interest Variable VS Education Level\n",
        "\n",
        "A scatter plot displaying all countries and their values of the y-axis variable being tracked while also displaying their level of education, population and income group."
      ]
    },
    {
      "cell_type": "code",
      "metadata": {
        "colab": {
          "base_uri": "https://localhost:8080/",
          "height": 300
        },
        "id": "0nIqG_MZ2kIb",
        "outputId": "08fb43fc-bd53-4360-be93-e6abe9e6371e"
      },
      "source": [
        "data.describe()"
      ],
      "execution_count": 11,
      "outputs": [
        {
          "output_type": "execute_result",
          "data": {
            "text/html": [
              "<div>\n",
              "<style scoped>\n",
              "    .dataframe tbody tr th:only-of-type {\n",
              "        vertical-align: middle;\n",
              "    }\n",
              "\n",
              "    .dataframe tbody tr th {\n",
              "        vertical-align: top;\n",
              "    }\n",
              "\n",
              "    .dataframe thead th {\n",
              "        text-align: right;\n",
              "    }\n",
              "</style>\n",
              "<table border=\"1\" class=\"dataframe\">\n",
              "  <thead>\n",
              "    <tr style=\"text-align: right;\">\n",
              "      <th></th>\n",
              "      <th>population</th>\n",
              "      <th>total_tests</th>\n",
              "      <th>total_cases</th>\n",
              "      <th>total_deaths</th>\n",
              "      <th>total_recovered</th>\n",
              "      <th>expected_years_of_school</th>\n",
              "    </tr>\n",
              "  </thead>\n",
              "  <tbody>\n",
              "    <tr>\n",
              "      <th>count</th>\n",
              "      <td>1.410000e+02</td>\n",
              "      <td>1.330000e+02</td>\n",
              "      <td>1.410000e+02</td>\n",
              "      <td>133.000000</td>\n",
              "      <td>1.370000e+02</td>\n",
              "      <td>141.000000</td>\n",
              "    </tr>\n",
              "    <tr>\n",
              "      <th>mean</th>\n",
              "      <td>4.853622e+07</td>\n",
              "      <td>4.520382e+06</td>\n",
              "      <td>2.470115e+05</td>\n",
              "      <td>7288.097744</td>\n",
              "      <td>1.900885e+05</td>\n",
              "      <td>11.311348</td>\n",
              "    </tr>\n",
              "    <tr>\n",
              "      <th>std</th>\n",
              "      <td>1.719921e+08</td>\n",
              "      <td>1.880667e+07</td>\n",
              "      <td>1.001286e+06</td>\n",
              "      <td>26221.801904</td>\n",
              "      <td>7.889475e+05</td>\n",
              "      <td>2.375533</td>\n",
              "    </tr>\n",
              "    <tr>\n",
              "      <th>min</th>\n",
              "      <td>7.203700e+04</td>\n",
              "      <td>9.600000e+01</td>\n",
              "      <td>2.000000e+00</td>\n",
              "      <td>1.000000</td>\n",
              "      <td>2.400000e+01</td>\n",
              "      <td>4.200000</td>\n",
              "    </tr>\n",
              "    <tr>\n",
              "      <th>25%</th>\n",
              "      <td>3.986972e+06</td>\n",
              "      <td>1.552020e+05</td>\n",
              "      <td>4.905000e+03</td>\n",
              "      <td>93.000000</td>\n",
              "      <td>3.237000e+03</td>\n",
              "      <td>10.000000</td>\n",
              "    </tr>\n",
              "    <tr>\n",
              "      <th>50%</th>\n",
              "      <td>1.023167e+07</td>\n",
              "      <td>5.221120e+05</td>\n",
              "      <td>2.607300e+04</td>\n",
              "      <td>509.000000</td>\n",
              "      <td>1.597500e+04</td>\n",
              "      <td>12.200000</td>\n",
              "    </tr>\n",
              "    <tr>\n",
              "      <th>75%</th>\n",
              "      <td>3.310042e+07</td>\n",
              "      <td>2.088941e+06</td>\n",
              "      <td>1.088310e+05</td>\n",
              "      <td>2179.000000</td>\n",
              "      <td>8.071400e+04</td>\n",
              "      <td>13.100000</td>\n",
              "    </tr>\n",
              "    <tr>\n",
              "      <th>max</th>\n",
              "      <td>1.439324e+09</td>\n",
              "      <td>1.600000e+08</td>\n",
              "      <td>8.037789e+06</td>\n",
              "      <td>220011.000000</td>\n",
              "      <td>6.224792e+06</td>\n",
              "      <td>13.900000</td>\n",
              "    </tr>\n",
              "  </tbody>\n",
              "</table>\n",
              "</div>"
            ],
            "text/plain": [
              "         population   total_tests  ...  total_recovered  expected_years_of_school\n",
              "count  1.410000e+02  1.330000e+02  ...     1.370000e+02                141.000000\n",
              "mean   4.853622e+07  4.520382e+06  ...     1.900885e+05                 11.311348\n",
              "std    1.719921e+08  1.880667e+07  ...     7.889475e+05                  2.375533\n",
              "min    7.203700e+04  9.600000e+01  ...     2.400000e+01                  4.200000\n",
              "25%    3.986972e+06  1.552020e+05  ...     3.237000e+03                 10.000000\n",
              "50%    1.023167e+07  5.221120e+05  ...     1.597500e+04                 12.200000\n",
              "75%    3.310042e+07  2.088941e+06  ...     8.071400e+04                 13.100000\n",
              "max    1.439324e+09  1.600000e+08  ...     6.224792e+06                 13.900000\n",
              "\n",
              "[8 rows x 6 columns]"
            ]
          },
          "metadata": {
            "tags": []
          },
          "execution_count": 11
        }
      ]
    },
    {
      "cell_type": "code",
      "metadata": {
        "colab": {
          "base_uri": "https://localhost:8080/",
          "height": 542
        },
        "id": "t55iKFjfZT-O",
        "outputId": "0becc833-dcd2-45f1-9d76-a8b764056ced"
      },
      "source": [
        "  fig = px.scatter(data,\n",
        "                  x='expected_years_of_school',\n",
        "                  y=data.total_cases/data.population,\n",
        "                  size='population',\n",
        "                  color='income_group',\n",
        "                  hover_name='country',\n",
        "                  template='plotly_dark',\n",
        "                  labels={'expected_years_of_school':'Expected Years of School',\n",
        "                          'y': 'Total Cases'},\n",
        "                  title='Total Cases VS Education Level')\n",
        "  fig.update_layout()\n",
        "  fig.show()"
      ],
      "execution_count": 12,
      "outputs": [
        {
          "output_type": "display_data",
          "data": {
            "text/html": [
              "<html>\n",
              "<head><meta charset=\"utf-8\" /></head>\n",
              "<body>\n",
              "    <div>            <script src=\"https://cdnjs.cloudflare.com/ajax/libs/mathjax/2.7.5/MathJax.js?config=TeX-AMS-MML_SVG\"></script><script type=\"text/javascript\">if (window.MathJax) {MathJax.Hub.Config({SVG: {font: \"STIX-Web\"}});}</script>                <script type=\"text/javascript\">window.PlotlyConfig = {MathJaxConfig: 'local'};</script>\n",
              "        <script src=\"https://cdn.plot.ly/plotly-latest.min.js\"></script>                <div id=\"a8009cb2-99db-43b2-8ab0-322f88570dd5\" class=\"plotly-graph-div\" style=\"height:525px; width:100%;\"></div>            <script type=\"text/javascript\">                                    window.PLOTLYENV=window.PLOTLYENV || {};                                    if (document.getElementById(\"a8009cb2-99db-43b2-8ab0-322f88570dd5\")) {                    Plotly.newPlot(                        \"a8009cb2-99db-43b2-8ab0-322f88570dd5\",                        [{\"hovertemplate\": \"<b>%{hovertext}</b><br><br>income_group=High income<br>Expected Years of School=%{x}<br>Total Cases=%{y}<br>population=%{marker.size}<extra></extra>\", \"hovertext\": [\"United States\", \"Spain\", \"France\", \"Chile\", \"Italy\", \"Saudi Arabia\", \"Germany\", \"Israel\", \"Canada\", \"Netherlands\", \"Belgium\", \"Romania\", \"Poland\", \"Qatar\", \"Czechia\", \"Panama\", \"Kuwait\", \"Oman\", \"Sweden\", \"Japan\", \"Portugal\", \"Bahrain\", \"Switzerland\", \"Singapore\", \"Austria\", \"Ireland\", \"Hungary\", \"Denmark\", \"Australia\", \"Greece\", \"Croatia\", \"Slovakia\", \"Norway\", \"Finland\", \"Luxembourg\", \"Slovenia\", \"Lithuania\", \"Trinidad and Tobago\", \"Estonia\", \"Malta\", \"Iceland\", \"Latvia\", \"Uruguay\", \"Cyprus\", \"New Zealand\", \"Mauritius\", \"Seychelles\", \"Antigua and Barbuda\"], \"legendgroup\": \"High income\", \"marker\": {\"color\": \"#636efa\", \"size\": [331552784, 46759952, 65314670, 19162518, 60436357, 34965237, 83860174, 9197590, 37835533, 17145676, 11603951, 19200659, 37834743, 2807805, 10714645, 4333725, 4288226, 5142297, 10117104, 126365294, 10188174, 1717558, 8672522, 5863343, 9020966, 4953293, 9653313, 5798003, 25583007, 10408399, 4097967, 5460397, 5433220, 5543175, 628818, 2079020, 2711221, 1400777, 1326790, 441878, 341870, 1880145, 3477154, 1209845, 5002100, 1272370, 98519, 98158], \"sizemode\": \"area\", \"sizeref\": 3598309.44, \"symbol\": \"circle\"}, \"mode\": \"markers\", \"name\": \"High income\", \"orientation\": \"v\", \"showlegend\": true, \"type\": \"scatter\", \"x\": [12.9, 13.0, 13.8, 13.0, 13.3, 12.4, 13.3, 13.8, 13.7, 13.9, 13.5, 11.8, 13.4, 12.8, 13.6, 10.7, 12.0, 12.8, 13.9, 13.6, 13.9, 12.8, 13.3, 13.9, 13.4, 13.9, 13.0, 13.4, 13.6, 13.3, 13.4, 12.6, 13.7, 13.7, 12.4, 13.6, 13.8, 12.4, 13.5, 13.4, 13.5, 13.6, 12.2, 13.6, 13.7, 12.4, 13.1, 13.0], \"xaxis\": \"x\", \"y\": [0.02424286384517284, 0.01963695343399839, 0.011383032326428351, 0.02519961103232884, 0.005949547885555047, 0.009712932876731252, 0.003948167338646352, 0.03196826560001044, 0.0048324679343092645, 0.010585642700818562, 0.013982995964047073, 0.00819513538571775, 0.003441545777118137, 0.04565523602956758, 0.011332246658662046, 0.027874865156418554, 0.02609307438553845, 0.02072517398353304, 0.009731144406541634, 0.0007070533148128473, 0.008628926047003124, 0.04421859407367903, 0.007429903319933925, 0.009871501633112715, 0.006240795054542939, 0.008751955517269016, 0.004023178363738957, 0.005659017423757801, 0.001066567350741842, 0.0021763193359516674, 0.005032007334368481, 0.00372775093093048, 0.0028784035986026703, 0.0022030695404709395, 0.01547506591732425, 0.004248155380900617, 0.0023044967562585272, 0.003652258710701275, 0.002926612350108156, 0.008699233725145855, 0.01047766694942522, 0.0014706312545043068, 0.0006651991830100134, 0.0016919522748781869, 0.0003740429019811679, 0.00031751770318382233, 0.0015022482972827577, 0.001130829886509505], \"yaxis\": \"y\"}, {\"hovertemplate\": \"<b>%{hovertext}</b><br><br>income_group=Lower middle income<br>Expected Years of School=%{x}<br>Total Cases=%{y}<br>population=%{marker.size}<extra></extra>\", \"hovertext\": [\"India\", \"Bangladesh\", \"Philippines\", \"Pakistan\", \"Ukraine\", \"Morocco\", \"Nepal\", \"Honduras\", \"Uzbekistan\", \"Nigeria\", \"Algeria\", \"Kyrgyzstan\", \"Ghana\", \"Kenya\", \"Tunisia\", \"El Salvador\", \"Myanmar\", \"Cameroon\", \"Zambia\", \"Senegal\", \"Zimbabwe\", \"Mauritania\", \"Angola\", \"Eswatini\", \"Nicaragua\", \"Sri Lanka\", \"Benin\", \"Lesotho\", \"Papua New Guinea\", \"Comoros\", \"Mongolia\", \"Bhutan\", \"Cambodia\", \"Timor-Leste\", \"Solomon Islands\"], \"legendgroup\": \"Lower middle income\", \"marker\": {\"color\": \"#EF553B\", \"size\": [1383826697, 165151528, 109989739, 222082317, 43658014, 37033425, 29282543, 9948563, 33604858, 207544416, 44071222, 6554201, 31252458, 54098484, 11853425, 6495492, 54513051, 26727521, 18524743, 16864927, 14923427, 4683177, 33144334, 1163545, 6646687, 21438760, 12210302, 2147047, 8994081, 874724, 3293016, 773997, 16783742, 1325416, 691518], \"sizemode\": \"area\", \"sizeref\": 3598309.44, \"symbol\": \"circle\"}, \"mode\": \"markers\", \"name\": \"Lower middle income\", \"orientation\": \"v\", \"showlegend\": true, \"type\": \"scatter\", \"x\": [11.1, 10.2, 12.9, 9.4, 12.9, 10.4, 12.3, 9.6, 12.0, 10.2, 11.8, 12.9, 12.1, 11.6, 10.6, 10.9, 10.0, 8.7, 8.8, 7.3, 11.1, 7.7, 8.1, 6.4, 10.8, 13.2, 9.2, 10.0, 10.3, 8.2, 13.2, 10.2, 9.5, 10.6, 8.3], \"xaxis\": \"x\", \"y\": [0.005183860822711097, 0.0022993308302905924, 0.0031167998316642973, 0.0014378317207488429, 0.006080304065136815, 0.004151951919110912, 0.003818042715757303, 0.008451572352710638, 0.001824706415959264, 0.0002911665905769298, 0.0012077042020754497, 0.007556680059094922, 0.0015048416351763436, 0.0007693191550432356, 0.0027465479386759523, 0.004692485188188978, 0.0005377427875023909, 0.000793302154734066, 0.0008393638713368385, 0.0009067338388123471, 0.0005374770821742218, 0.0016130075801106813, 0.00019574989800670003, 0.004884211611927342, 0.0007919735049957972, 0.0002259459035877075, 0.00019745621361371733, 0.0008406895610575828, 6.281909180048523e-05, 0.0005658927844668718, 9.656800938713933e-05, 0.0003992263535905178, 1.6861555665000093e-05, 2.1879922982671102e-05, 2.8921879112329687e-06], \"yaxis\": \"y\"}, {\"hovertemplate\": \"<b>%{hovertext}</b><br><br>income_group=Upper middle income<br>Expected Years of School=%{x}<br>Total Cases=%{y}<br>population=%{marker.size}<extra></extra>\", \"hovertext\": [\"Brazil\", \"Colombia\", \"Argentina\", \"Peru\", \"Mexico\", \"South Africa\", \"Iraq\", \"Turkey\", \"Indonesia\", \"Ecuador\", \"Dominican Republic\", \"Kazakhstan\", \"Guatemala\", \"Costa Rica\", \"China\", \"Belarus\", \"Armenia\", \"Lebanon\", \"Paraguay\", \"Azerbaijan\", \"Serbia\", \"Bosnia and Herzegovina\", \"Jordan\", \"Bulgaria\", \"North Macedonia\", \"Malaysia\", \"Albania\", \"Montenegro\", \"Georgia\", \"Namibia\", \"Gabon\", \"Jamaica\", \"Thailand\", \"Guyana\", \"Botswana\", \"Fiji\", \"Dominica\", \"Grenada\"], \"legendgroup\": \"Upper middle income\", \"marker\": {\"color\": \"#00cc96\", \"size\": [212986866, 51035485, 45312730, 33100421, 129313982, 59518442, 40471654, 84594371, 274337514, 17717896, 10878547, 18839771, 18007652, 5107237, 1439323776, 9448434, 2964822, 6816652, 7157126, 10164956, 8727252, 3274934, 10231666, 6933334, 2083350, 32482283, 2876897, 628089, 3986972, 2553699, 2240204, 2964838, 69849867, 787629, 2364784, 898282, 72037, 112671], \"sizemode\": \"area\", \"sizeref\": 3598309.44, \"symbol\": \"circle\"}, \"mode\": \"markers\", \"name\": \"Upper middle income\", \"orientation\": \"v\", \"showlegend\": true, \"type\": \"scatter\", \"x\": [11.9, 12.9, 12.9, 13.0, 12.8, 10.2, 6.9, 12.1, 12.4, 12.9, 11.9, 13.7, 9.7, 13.1, 13.1, 13.8, 11.3, 10.2, 11.3, 12.4, 13.3, 11.7, 11.1, 12.3, 11.0, 12.5, 12.9, 12.8, 12.9, 9.4, 8.3, 11.4, 12.7, 12.2, 8.1, 11.3, 12.4, 13.1], \"xaxis\": \"x\", \"y\": [0.023961139462937587, 0.018008705119584932, 0.01994428497245697, 0.025714808884152864, 0.006321845382504731, 0.011649481685021258, 0.0100178015951609, 0.003985454304045833, 0.0012273786223782723, 0.008314474811230408, 0.010924528799664147, 0.0057766625719601365, 0.005432468375110759, 0.017469915729385575, 5.945708771505766e-05, 0.008890150473612876, 0.019165062860434793, 0.00801331797486508, 0.007034108383728329, 0.00414207400405865, 0.003993696985030339, 0.009416067621515426, 0.002548265355808135, 0.0036041823457516977, 0.010134158926728587, 0.000499349137497509, 0.0054120811415910965, 0.0223694412734501, 0.0030780251278413793, 0.004694758466052577, 0.003954996955634398, 0.0026352198669876733, 5.212608350421054e-05, 0.004470378820485279, 0.0014863936833131482, 3.562355696763377e-05, 0.00044421616669211653, 0.0002218849570874493], \"yaxis\": \"y\"}, {\"hovertemplate\": \"<b>%{hovertext}</b><br><br>income_group=Low income<br>Expected Years of School=%{x}<br>Total Cases=%{y}<br>population=%{marker.size}<extra></extra>\", \"hovertext\": [\"Ethiopia\", \"Afghanistan\", \"Madagascar\", \"Sudan\", \"Guinea\", \"Tajikistan\", \"Mozambique\", \"Uganda\", \"Haiti\", \"Malawi\", \"Rwanda\", \"Mali\", \"South Sudan\", \"Sierra Leone\", \"Burkina Faso\", \"Togo\", \"Liberia\", \"Chad\", \"Niger\", \"Burundi\"], \"legendgroup\": \"Low income\", \"marker\": {\"color\": \"#ab63fa\", \"size\": [115746603, 39170328, 27886450, 44131451, 13230352, 9596779, 31494883, 46133567, 11441545, 19265628, 13040499, 20410113, 11230588, 8021921, 21060169, 8332196, 5090438, 16554598, 24442818, 11987326], \"sizemode\": \"area\", \"sizeref\": 3598309.44, \"symbol\": \"circle\"}, \"mode\": \"markers\", \"name\": \"Low income\", \"orientation\": \"v\", \"showlegend\": true, \"type\": \"scatter\", \"x\": [7.8, 8.9, 8.4, 7.1, 7.0, 10.9, 7.6, 6.8, 11.4, 9.6, 6.9, 5.2, 4.7, 9.6, 7.0, 9.7, 4.2, 5.3, 5.5, 7.6], \"xaxis\": \"x\", \"y\": [0.0007355377850700293, 0.0010178622961747985, 0.0005997895035043901, 0.0003102322649667694, 0.0008361077619098872, 0.0010691087082447142, 0.0003203060001842204, 0.00021381394592791839, 0.0007762937610261551, 0.0003023000340295162, 0.00037613591320393493, 0.00016148857186630962, 0.0002481615388259279, 0.0002874623173177597, 0.00010892600149599939, 0.0002339119242994284, 0.000269328493933135, 7.901128133706418e-05, 4.9175999264896546e-05, 4.379625614586606e-05], \"yaxis\": \"y\"}],                        {\"legend\": {\"itemsizing\": \"constant\", \"title\": {\"text\": \"income_group\"}, \"tracegroupgap\": 0}, \"template\": {\"data\": {\"bar\": [{\"error_x\": {\"color\": \"#f2f5fa\"}, \"error_y\": {\"color\": \"#f2f5fa\"}, \"marker\": {\"line\": {\"color\": \"rgb(17,17,17)\", \"width\": 0.5}}, \"type\": \"bar\"}], \"barpolar\": [{\"marker\": {\"line\": {\"color\": \"rgb(17,17,17)\", \"width\": 0.5}}, \"type\": \"barpolar\"}], \"carpet\": [{\"aaxis\": {\"endlinecolor\": \"#A2B1C6\", \"gridcolor\": \"#506784\", \"linecolor\": \"#506784\", \"minorgridcolor\": \"#506784\", \"startlinecolor\": \"#A2B1C6\"}, \"baxis\": {\"endlinecolor\": \"#A2B1C6\", \"gridcolor\": \"#506784\", \"linecolor\": \"#506784\", \"minorgridcolor\": \"#506784\", \"startlinecolor\": \"#A2B1C6\"}, \"type\": \"carpet\"}], \"choropleth\": [{\"colorbar\": {\"outlinewidth\": 0, \"ticks\": \"\"}, \"type\": \"choropleth\"}], \"contour\": [{\"colorbar\": {\"outlinewidth\": 0, \"ticks\": \"\"}, \"colorscale\": [[0.0, \"#0d0887\"], [0.1111111111111111, \"#46039f\"], [0.2222222222222222, \"#7201a8\"], [0.3333333333333333, \"#9c179e\"], [0.4444444444444444, \"#bd3786\"], [0.5555555555555556, \"#d8576b\"], [0.6666666666666666, \"#ed7953\"], [0.7777777777777778, \"#fb9f3a\"], [0.8888888888888888, \"#fdca26\"], [1.0, \"#f0f921\"]], \"type\": \"contour\"}], \"contourcarpet\": [{\"colorbar\": {\"outlinewidth\": 0, \"ticks\": \"\"}, \"type\": \"contourcarpet\"}], \"heatmap\": [{\"colorbar\": {\"outlinewidth\": 0, \"ticks\": \"\"}, \"colorscale\": [[0.0, \"#0d0887\"], [0.1111111111111111, \"#46039f\"], [0.2222222222222222, \"#7201a8\"], [0.3333333333333333, \"#9c179e\"], [0.4444444444444444, \"#bd3786\"], [0.5555555555555556, \"#d8576b\"], [0.6666666666666666, \"#ed7953\"], [0.7777777777777778, \"#fb9f3a\"], [0.8888888888888888, \"#fdca26\"], [1.0, \"#f0f921\"]], \"type\": \"heatmap\"}], \"heatmapgl\": [{\"colorbar\": {\"outlinewidth\": 0, \"ticks\": \"\"}, \"colorscale\": [[0.0, \"#0d0887\"], [0.1111111111111111, \"#46039f\"], [0.2222222222222222, \"#7201a8\"], [0.3333333333333333, \"#9c179e\"], [0.4444444444444444, \"#bd3786\"], [0.5555555555555556, \"#d8576b\"], [0.6666666666666666, \"#ed7953\"], [0.7777777777777778, \"#fb9f3a\"], [0.8888888888888888, \"#fdca26\"], [1.0, \"#f0f921\"]], \"type\": \"heatmapgl\"}], \"histogram\": [{\"marker\": {\"colorbar\": {\"outlinewidth\": 0, \"ticks\": \"\"}}, \"type\": \"histogram\"}], \"histogram2d\": [{\"colorbar\": {\"outlinewidth\": 0, \"ticks\": \"\"}, \"colorscale\": [[0.0, \"#0d0887\"], [0.1111111111111111, \"#46039f\"], [0.2222222222222222, \"#7201a8\"], [0.3333333333333333, \"#9c179e\"], [0.4444444444444444, \"#bd3786\"], [0.5555555555555556, \"#d8576b\"], [0.6666666666666666, \"#ed7953\"], [0.7777777777777778, \"#fb9f3a\"], [0.8888888888888888, \"#fdca26\"], [1.0, \"#f0f921\"]], \"type\": \"histogram2d\"}], \"histogram2dcontour\": [{\"colorbar\": {\"outlinewidth\": 0, \"ticks\": \"\"}, \"colorscale\": [[0.0, \"#0d0887\"], [0.1111111111111111, \"#46039f\"], [0.2222222222222222, \"#7201a8\"], [0.3333333333333333, \"#9c179e\"], [0.4444444444444444, \"#bd3786\"], [0.5555555555555556, \"#d8576b\"], [0.6666666666666666, \"#ed7953\"], [0.7777777777777778, \"#fb9f3a\"], [0.8888888888888888, \"#fdca26\"], [1.0, \"#f0f921\"]], \"type\": \"histogram2dcontour\"}], \"mesh3d\": [{\"colorbar\": {\"outlinewidth\": 0, \"ticks\": \"\"}, \"type\": \"mesh3d\"}], \"parcoords\": [{\"line\": {\"colorbar\": {\"outlinewidth\": 0, \"ticks\": \"\"}}, \"type\": \"parcoords\"}], \"pie\": [{\"automargin\": true, \"type\": \"pie\"}], \"scatter\": [{\"marker\": {\"line\": {\"color\": \"#283442\"}}, \"type\": \"scatter\"}], \"scatter3d\": [{\"line\": {\"colorbar\": {\"outlinewidth\": 0, \"ticks\": \"\"}}, \"marker\": {\"colorbar\": {\"outlinewidth\": 0, \"ticks\": \"\"}}, \"type\": \"scatter3d\"}], \"scattercarpet\": [{\"marker\": {\"colorbar\": {\"outlinewidth\": 0, \"ticks\": \"\"}}, \"type\": \"scattercarpet\"}], \"scattergeo\": [{\"marker\": {\"colorbar\": {\"outlinewidth\": 0, \"ticks\": \"\"}}, \"type\": \"scattergeo\"}], \"scattergl\": [{\"marker\": {\"line\": {\"color\": \"#283442\"}}, \"type\": \"scattergl\"}], \"scattermapbox\": [{\"marker\": {\"colorbar\": {\"outlinewidth\": 0, \"ticks\": \"\"}}, \"type\": \"scattermapbox\"}], \"scatterpolar\": [{\"marker\": {\"colorbar\": {\"outlinewidth\": 0, \"ticks\": \"\"}}, \"type\": \"scatterpolar\"}], \"scatterpolargl\": [{\"marker\": {\"colorbar\": {\"outlinewidth\": 0, \"ticks\": \"\"}}, \"type\": \"scatterpolargl\"}], \"scatterternary\": [{\"marker\": {\"colorbar\": {\"outlinewidth\": 0, \"ticks\": \"\"}}, \"type\": \"scatterternary\"}], \"surface\": [{\"colorbar\": {\"outlinewidth\": 0, \"ticks\": \"\"}, \"colorscale\": [[0.0, \"#0d0887\"], [0.1111111111111111, \"#46039f\"], [0.2222222222222222, \"#7201a8\"], [0.3333333333333333, \"#9c179e\"], [0.4444444444444444, \"#bd3786\"], [0.5555555555555556, \"#d8576b\"], [0.6666666666666666, \"#ed7953\"], [0.7777777777777778, \"#fb9f3a\"], [0.8888888888888888, \"#fdca26\"], [1.0, \"#f0f921\"]], \"type\": \"surface\"}], \"table\": [{\"cells\": {\"fill\": {\"color\": \"#506784\"}, \"line\": {\"color\": \"rgb(17,17,17)\"}}, \"header\": {\"fill\": {\"color\": \"#2a3f5f\"}, \"line\": {\"color\": \"rgb(17,17,17)\"}}, \"type\": \"table\"}]}, \"layout\": {\"annotationdefaults\": {\"arrowcolor\": \"#f2f5fa\", \"arrowhead\": 0, \"arrowwidth\": 1}, \"coloraxis\": {\"colorbar\": {\"outlinewidth\": 0, \"ticks\": \"\"}}, \"colorscale\": {\"diverging\": [[0, \"#8e0152\"], [0.1, \"#c51b7d\"], [0.2, \"#de77ae\"], [0.3, \"#f1b6da\"], [0.4, \"#fde0ef\"], [0.5, \"#f7f7f7\"], [0.6, \"#e6f5d0\"], [0.7, \"#b8e186\"], [0.8, \"#7fbc41\"], [0.9, \"#4d9221\"], [1, \"#276419\"]], \"sequential\": [[0.0, \"#0d0887\"], [0.1111111111111111, \"#46039f\"], [0.2222222222222222, \"#7201a8\"], [0.3333333333333333, \"#9c179e\"], [0.4444444444444444, \"#bd3786\"], [0.5555555555555556, \"#d8576b\"], [0.6666666666666666, \"#ed7953\"], [0.7777777777777778, \"#fb9f3a\"], [0.8888888888888888, \"#fdca26\"], [1.0, \"#f0f921\"]], \"sequentialminus\": [[0.0, \"#0d0887\"], [0.1111111111111111, \"#46039f\"], [0.2222222222222222, \"#7201a8\"], [0.3333333333333333, \"#9c179e\"], [0.4444444444444444, \"#bd3786\"], [0.5555555555555556, \"#d8576b\"], [0.6666666666666666, \"#ed7953\"], [0.7777777777777778, \"#fb9f3a\"], [0.8888888888888888, \"#fdca26\"], [1.0, \"#f0f921\"]]}, \"colorway\": [\"#636efa\", \"#EF553B\", \"#00cc96\", \"#ab63fa\", \"#FFA15A\", \"#19d3f3\", \"#FF6692\", \"#B6E880\", \"#FF97FF\", \"#FECB52\"], \"font\": {\"color\": \"#f2f5fa\"}, \"geo\": {\"bgcolor\": \"rgb(17,17,17)\", \"lakecolor\": \"rgb(17,17,17)\", \"landcolor\": \"rgb(17,17,17)\", \"showlakes\": true, \"showland\": true, \"subunitcolor\": \"#506784\"}, \"hoverlabel\": {\"align\": \"left\"}, \"hovermode\": \"closest\", \"mapbox\": {\"style\": \"dark\"}, \"paper_bgcolor\": \"rgb(17,17,17)\", \"plot_bgcolor\": \"rgb(17,17,17)\", \"polar\": {\"angularaxis\": {\"gridcolor\": \"#506784\", \"linecolor\": \"#506784\", \"ticks\": \"\"}, \"bgcolor\": \"rgb(17,17,17)\", \"radialaxis\": {\"gridcolor\": \"#506784\", \"linecolor\": \"#506784\", \"ticks\": \"\"}}, \"scene\": {\"xaxis\": {\"backgroundcolor\": \"rgb(17,17,17)\", \"gridcolor\": \"#506784\", \"gridwidth\": 2, \"linecolor\": \"#506784\", \"showbackground\": true, \"ticks\": \"\", \"zerolinecolor\": \"#C8D4E3\"}, \"yaxis\": {\"backgroundcolor\": \"rgb(17,17,17)\", \"gridcolor\": \"#506784\", \"gridwidth\": 2, \"linecolor\": \"#506784\", \"showbackground\": true, \"ticks\": \"\", \"zerolinecolor\": \"#C8D4E3\"}, \"zaxis\": {\"backgroundcolor\": \"rgb(17,17,17)\", \"gridcolor\": \"#506784\", \"gridwidth\": 2, \"linecolor\": \"#506784\", \"showbackground\": true, \"ticks\": \"\", \"zerolinecolor\": \"#C8D4E3\"}}, \"shapedefaults\": {\"line\": {\"color\": \"#f2f5fa\"}}, \"sliderdefaults\": {\"bgcolor\": \"#C8D4E3\", \"bordercolor\": \"rgb(17,17,17)\", \"borderwidth\": 1, \"tickwidth\": 0}, \"ternary\": {\"aaxis\": {\"gridcolor\": \"#506784\", \"linecolor\": \"#506784\", \"ticks\": \"\"}, \"baxis\": {\"gridcolor\": \"#506784\", \"linecolor\": \"#506784\", \"ticks\": \"\"}, \"bgcolor\": \"rgb(17,17,17)\", \"caxis\": {\"gridcolor\": \"#506784\", \"linecolor\": \"#506784\", \"ticks\": \"\"}}, \"title\": {\"x\": 0.05}, \"updatemenudefaults\": {\"bgcolor\": \"#506784\", \"borderwidth\": 0}, \"xaxis\": {\"automargin\": true, \"gridcolor\": \"#283442\", \"linecolor\": \"#506784\", \"ticks\": \"\", \"title\": {\"standoff\": 15}, \"zerolinecolor\": \"#283442\", \"zerolinewidth\": 2}, \"yaxis\": {\"automargin\": true, \"gridcolor\": \"#283442\", \"linecolor\": \"#506784\", \"ticks\": \"\", \"title\": {\"standoff\": 15}, \"zerolinecolor\": \"#283442\", \"zerolinewidth\": 2}}}, \"title\": {\"text\": \"Total Cases VS Education Level\"}, \"xaxis\": {\"anchor\": \"y\", \"domain\": [0.0, 1.0], \"title\": {\"text\": \"Expected Years of School\"}}, \"yaxis\": {\"anchor\": \"x\", \"domain\": [0.0, 1.0], \"title\": {\"text\": \"Total Cases\"}}},                        {\"responsive\": true}                    ).then(function(){\n",
              "                            \n",
              "var gd = document.getElementById('a8009cb2-99db-43b2-8ab0-322f88570dd5');\n",
              "var x = new MutationObserver(function (mutations, observer) {{\n",
              "        var display = window.getComputedStyle(gd).display;\n",
              "        if (!display || display === 'none') {{\n",
              "            console.log([gd, 'removed!']);\n",
              "            Plotly.purge(gd);\n",
              "            observer.disconnect();\n",
              "        }}\n",
              "}});\n",
              "\n",
              "// Listen for the removal of the full notebook cells\n",
              "var notebookContainer = gd.closest('#notebook-container');\n",
              "if (notebookContainer) {{\n",
              "    x.observe(notebookContainer, {childList: true});\n",
              "}}\n",
              "\n",
              "// Listen for the clearing of the current output cell\n",
              "var outputEl = gd.closest('.output');\n",
              "if (outputEl) {{\n",
              "    x.observe(outputEl, {childList: true});\n",
              "}}\n",
              "\n",
              "                        })                };                            </script>        </div>\n",
              "</body>\n",
              "</html>"
            ]
          },
          "metadata": {
            "tags": []
          }
        }
      ]
    },
    {
      "cell_type": "markdown",
      "metadata": {
        "id": "yOZgmgLcaXYA"
      },
      "source": [
        "Notice how most countries are hard to see due to how small their population is in comparsion to the largest countries. To counteract that issue, we'll make it so you can control the max population you want displayed in the dashboard.\n",
        "\n",
        "## Interest Variable Per Country\n",
        "\n",
        "Showing the values of the chosen y-axis variable for each country while also grouping them up by income group."
      ]
    },
    {
      "cell_type": "code",
      "metadata": {
        "colab": {
          "base_uri": "https://localhost:8080/",
          "height": 542
        },
        "id": "Gg97yyMAaTvI",
        "outputId": "9c2c2206-62e6-42d8-f46d-f870a58b5bd0"
      },
      "source": [
        "fig = px.bar(data, \n",
        "              x='country', \n",
        "              y='total_cases', \n",
        "              color='income_group',\n",
        "              template='plotly_dark',\n",
        "              labels={'country':'Country',\n",
        "                      'total_cases':'Total Cases',\n",
        "                      'total_tests':'Total Tests',\n",
        "                      'total_deaths':'Total Deaths',\n",
        "                      'total_recovered':'Total Recovered'},\n",
        "              title='Total Cases per Country')\n",
        "fig.show()"
      ],
      "execution_count": 13,
      "outputs": [
        {
          "output_type": "display_data",
          "data": {
            "text/html": [
              "<html>\n",
              "<head><meta charset=\"utf-8\" /></head>\n",
              "<body>\n",
              "    <div>            <script src=\"https://cdnjs.cloudflare.com/ajax/libs/mathjax/2.7.5/MathJax.js?config=TeX-AMS-MML_SVG\"></script><script type=\"text/javascript\">if (window.MathJax) {MathJax.Hub.Config({SVG: {font: \"STIX-Web\"}});}</script>                <script type=\"text/javascript\">window.PlotlyConfig = {MathJaxConfig: 'local'};</script>\n",
              "        <script src=\"https://cdn.plot.ly/plotly-latest.min.js\"></script>                <div id=\"93441212-03ae-4292-9f45-a146b94bf742\" class=\"plotly-graph-div\" style=\"height:525px; width:100%;\"></div>            <script type=\"text/javascript\">                                    window.PLOTLYENV=window.PLOTLYENV || {};                                    if (document.getElementById(\"93441212-03ae-4292-9f45-a146b94bf742\")) {                    Plotly.newPlot(                        \"93441212-03ae-4292-9f45-a146b94bf742\",                        [{\"alignmentgroup\": \"True\", \"hovertemplate\": \"income_group=High income<br>Country=%{x}<br>Total Cases=%{y}<extra></extra>\", \"legendgroup\": \"High income\", \"marker\": {\"color\": \"#636efa\"}, \"name\": \"High income\", \"offsetgroup\": \"High income\", \"orientation\": \"v\", \"showlegend\": true, \"textposition\": \"auto\", \"type\": \"bar\", \"x\": [\"United States\", \"Spain\", \"France\", \"Chile\", \"Italy\", \"Saudi Arabia\", \"Germany\", \"Israel\", \"Canada\", \"Netherlands\", \"Belgium\", \"Romania\", \"Poland\", \"Qatar\", \"Czechia\", \"Panama\", \"Kuwait\", \"Oman\", \"Sweden\", \"Japan\", \"Portugal\", \"Bahrain\", \"Switzerland\", \"Singapore\", \"Austria\", \"Ireland\", \"Hungary\", \"Denmark\", \"Australia\", \"Greece\", \"Croatia\", \"Slovakia\", \"Norway\", \"Finland\", \"Luxembourg\", \"Slovenia\", \"Lithuania\", \"Trinidad and Tobago\", \"Estonia\", \"Malta\", \"Iceland\", \"Latvia\", \"Uruguay\", \"Cyprus\", \"New Zealand\", \"Mauritius\", \"Seychelles\", \"Antigua and Barbuda\"], \"xaxis\": \"x\", \"y\": [8037789, 918223, 743479, 482888, 359569, 339615, 331094, 294031, 182839, 181498, 162258, 157352, 130210, 128191, 121421, 120802, 111893, 106575, 98451, 89347, 87913, 75948, 64436, 57880, 56298, 43351, 38837, 32811, 27286, 22652, 20621, 20355, 15639, 12212, 9731, 8832, 6248, 5116, 3883, 3844, 3582, 2765, 2313, 2047, 1871, 404, 148, 111], \"yaxis\": \"y\"}, {\"alignmentgroup\": \"True\", \"hovertemplate\": \"income_group=Lower middle income<br>Country=%{x}<br>Total Cases=%{y}<extra></extra>\", \"legendgroup\": \"Lower middle income\", \"marker\": {\"color\": \"#EF553B\"}, \"name\": \"Lower middle income\", \"offsetgroup\": \"Lower middle income\", \"orientation\": \"v\", \"showlegend\": true, \"textposition\": \"auto\", \"type\": \"bar\", \"x\": [\"India\", \"Bangladesh\", \"Philippines\", \"Pakistan\", \"Ukraine\", \"Morocco\", \"Nepal\", \"Honduras\", \"Uzbekistan\", \"Nigeria\", \"Algeria\", \"Kyrgyzstan\", \"Ghana\", \"Kenya\", \"Tunisia\", \"El Salvador\", \"Myanmar\", \"Cameroon\", \"Zambia\", \"Senegal\", \"Zimbabwe\", \"Mauritania\", \"Angola\", \"Eswatini\", \"Nicaragua\", \"Sri Lanka\", \"Benin\", \"Lesotho\", \"Papua New Guinea\", \"Comoros\", \"Mongolia\", \"Bhutan\", \"Cambodia\", \"Timor-Leste\", \"Solomon Islands\"], \"xaxis\": \"x\", \"y\": [7173565, 379738, 342816, 319317, 265454, 153761, 111802, 84081, 61319, 60430, 53225, 49528, 47030, 41619, 32556, 30480, 29314, 21203, 15549, 15292, 8021, 7554, 6488, 5683, 5264, 4844, 2411, 1805, 565, 495, 318, 309, 283, 29, 2], \"yaxis\": \"y\"}, {\"alignmentgroup\": \"True\", \"hovertemplate\": \"income_group=Upper middle income<br>Country=%{x}<br>Total Cases=%{y}<extra></extra>\", \"legendgroup\": \"Upper middle income\", \"marker\": {\"color\": \"#00cc96\"}, \"name\": \"Upper middle income\", \"offsetgroup\": \"Upper middle income\", \"orientation\": \"v\", \"showlegend\": true, \"textposition\": \"auto\", \"type\": \"bar\", \"x\": [\"Brazil\", \"Colombia\", \"Argentina\", \"Peru\", \"Mexico\", \"South Africa\", \"Iraq\", \"Turkey\", \"Indonesia\", \"Ecuador\", \"Dominican Republic\", \"Kazakhstan\", \"Guatemala\", \"Costa Rica\", \"China\", \"Belarus\", \"Armenia\", \"Lebanon\", \"Paraguay\", \"Azerbaijan\", \"Serbia\", \"Bosnia and Herzegovina\", \"Jordan\", \"Bulgaria\", \"North Macedonia\", \"Malaysia\", \"Albania\", \"Montenegro\", \"Georgia\", \"Namibia\", \"Gabon\", \"Jamaica\", \"Thailand\", \"Guyana\", \"Botswana\", \"Fiji\", \"Dominica\", \"Grenada\"], \"xaxis\": \"x\", \"y\": [5103408, 919083, 903730, 851171, 817503, 693359, 405437, 337147, 336716, 147315, 118843, 108831, 97826, 89223, 85578, 83998, 56821, 54624, 50344, 42104, 34854, 30837, 26073, 24989, 21113, 16220, 15570, 14050, 12272, 11989, 8860, 7813, 3641, 3521, 3515, 32, 32, 25], \"yaxis\": \"y\"}, {\"alignmentgroup\": \"True\", \"hovertemplate\": \"income_group=Low income<br>Country=%{x}<br>Total Cases=%{y}<extra></extra>\", \"legendgroup\": \"Low income\", \"marker\": {\"color\": \"#ab63fa\"}, \"name\": \"Low income\", \"offsetgroup\": \"Low income\", \"orientation\": \"v\", \"showlegend\": true, \"textposition\": \"auto\", \"type\": \"bar\", \"x\": [\"Ethiopia\", \"Afghanistan\", \"Madagascar\", \"Sudan\", \"Guinea\", \"Tajikistan\", \"Mozambique\", \"Uganda\", \"Haiti\", \"Malawi\", \"Rwanda\", \"Mali\", \"South Sudan\", \"Sierra Leone\", \"Burkina Faso\", \"Togo\", \"Liberia\", \"Chad\", \"Niger\", \"Burundi\"], \"xaxis\": \"x\", \"y\": [85136, 39870, 16726, 13691, 11062, 10260, 10088, 9864, 8882, 5824, 4905, 3296, 2787, 2306, 2294, 1949, 1371, 1308, 1202, 525], \"yaxis\": \"y\"}],                        {\"barmode\": \"relative\", \"legend\": {\"title\": {\"text\": \"income_group\"}, \"tracegroupgap\": 0}, \"template\": {\"data\": {\"bar\": [{\"error_x\": {\"color\": \"#f2f5fa\"}, \"error_y\": {\"color\": \"#f2f5fa\"}, \"marker\": {\"line\": {\"color\": \"rgb(17,17,17)\", \"width\": 0.5}}, \"type\": \"bar\"}], \"barpolar\": [{\"marker\": {\"line\": {\"color\": \"rgb(17,17,17)\", \"width\": 0.5}}, \"type\": \"barpolar\"}], \"carpet\": [{\"aaxis\": {\"endlinecolor\": \"#A2B1C6\", \"gridcolor\": \"#506784\", \"linecolor\": \"#506784\", \"minorgridcolor\": \"#506784\", \"startlinecolor\": \"#A2B1C6\"}, \"baxis\": {\"endlinecolor\": \"#A2B1C6\", \"gridcolor\": \"#506784\", \"linecolor\": \"#506784\", \"minorgridcolor\": \"#506784\", \"startlinecolor\": \"#A2B1C6\"}, \"type\": \"carpet\"}], \"choropleth\": [{\"colorbar\": {\"outlinewidth\": 0, \"ticks\": \"\"}, \"type\": \"choropleth\"}], \"contour\": [{\"colorbar\": {\"outlinewidth\": 0, \"ticks\": \"\"}, \"colorscale\": [[0.0, \"#0d0887\"], [0.1111111111111111, \"#46039f\"], [0.2222222222222222, \"#7201a8\"], [0.3333333333333333, \"#9c179e\"], [0.4444444444444444, \"#bd3786\"], [0.5555555555555556, \"#d8576b\"], [0.6666666666666666, \"#ed7953\"], [0.7777777777777778, \"#fb9f3a\"], [0.8888888888888888, \"#fdca26\"], [1.0, \"#f0f921\"]], \"type\": \"contour\"}], \"contourcarpet\": [{\"colorbar\": {\"outlinewidth\": 0, \"ticks\": \"\"}, \"type\": \"contourcarpet\"}], \"heatmap\": [{\"colorbar\": {\"outlinewidth\": 0, \"ticks\": \"\"}, \"colorscale\": [[0.0, \"#0d0887\"], [0.1111111111111111, \"#46039f\"], [0.2222222222222222, \"#7201a8\"], [0.3333333333333333, \"#9c179e\"], [0.4444444444444444, \"#bd3786\"], [0.5555555555555556, \"#d8576b\"], [0.6666666666666666, \"#ed7953\"], [0.7777777777777778, \"#fb9f3a\"], [0.8888888888888888, \"#fdca26\"], [1.0, \"#f0f921\"]], \"type\": \"heatmap\"}], \"heatmapgl\": [{\"colorbar\": {\"outlinewidth\": 0, \"ticks\": \"\"}, \"colorscale\": [[0.0, \"#0d0887\"], [0.1111111111111111, \"#46039f\"], [0.2222222222222222, \"#7201a8\"], [0.3333333333333333, \"#9c179e\"], [0.4444444444444444, \"#bd3786\"], [0.5555555555555556, \"#d8576b\"], [0.6666666666666666, \"#ed7953\"], [0.7777777777777778, \"#fb9f3a\"], [0.8888888888888888, \"#fdca26\"], [1.0, \"#f0f921\"]], \"type\": \"heatmapgl\"}], \"histogram\": [{\"marker\": {\"colorbar\": {\"outlinewidth\": 0, \"ticks\": \"\"}}, \"type\": \"histogram\"}], \"histogram2d\": [{\"colorbar\": {\"outlinewidth\": 0, \"ticks\": \"\"}, \"colorscale\": [[0.0, \"#0d0887\"], [0.1111111111111111, \"#46039f\"], [0.2222222222222222, \"#7201a8\"], [0.3333333333333333, \"#9c179e\"], [0.4444444444444444, \"#bd3786\"], [0.5555555555555556, \"#d8576b\"], [0.6666666666666666, \"#ed7953\"], [0.7777777777777778, \"#fb9f3a\"], [0.8888888888888888, \"#fdca26\"], [1.0, \"#f0f921\"]], \"type\": \"histogram2d\"}], \"histogram2dcontour\": [{\"colorbar\": {\"outlinewidth\": 0, \"ticks\": \"\"}, \"colorscale\": [[0.0, \"#0d0887\"], [0.1111111111111111, \"#46039f\"], [0.2222222222222222, \"#7201a8\"], [0.3333333333333333, \"#9c179e\"], [0.4444444444444444, \"#bd3786\"], [0.5555555555555556, \"#d8576b\"], [0.6666666666666666, \"#ed7953\"], [0.7777777777777778, \"#fb9f3a\"], [0.8888888888888888, \"#fdca26\"], [1.0, \"#f0f921\"]], \"type\": \"histogram2dcontour\"}], \"mesh3d\": [{\"colorbar\": {\"outlinewidth\": 0, \"ticks\": \"\"}, \"type\": \"mesh3d\"}], \"parcoords\": [{\"line\": {\"colorbar\": {\"outlinewidth\": 0, \"ticks\": \"\"}}, \"type\": \"parcoords\"}], \"pie\": [{\"automargin\": true, \"type\": \"pie\"}], \"scatter\": [{\"marker\": {\"line\": {\"color\": \"#283442\"}}, \"type\": \"scatter\"}], \"scatter3d\": [{\"line\": {\"colorbar\": {\"outlinewidth\": 0, \"ticks\": \"\"}}, \"marker\": {\"colorbar\": {\"outlinewidth\": 0, \"ticks\": \"\"}}, \"type\": \"scatter3d\"}], \"scattercarpet\": [{\"marker\": {\"colorbar\": {\"outlinewidth\": 0, \"ticks\": \"\"}}, \"type\": \"scattercarpet\"}], \"scattergeo\": [{\"marker\": {\"colorbar\": {\"outlinewidth\": 0, \"ticks\": \"\"}}, \"type\": \"scattergeo\"}], \"scattergl\": [{\"marker\": {\"line\": {\"color\": \"#283442\"}}, \"type\": \"scattergl\"}], \"scattermapbox\": [{\"marker\": {\"colorbar\": {\"outlinewidth\": 0, \"ticks\": \"\"}}, \"type\": \"scattermapbox\"}], \"scatterpolar\": [{\"marker\": {\"colorbar\": {\"outlinewidth\": 0, \"ticks\": \"\"}}, \"type\": \"scatterpolar\"}], \"scatterpolargl\": [{\"marker\": {\"colorbar\": {\"outlinewidth\": 0, \"ticks\": \"\"}}, \"type\": \"scatterpolargl\"}], \"scatterternary\": [{\"marker\": {\"colorbar\": {\"outlinewidth\": 0, \"ticks\": \"\"}}, \"type\": \"scatterternary\"}], \"surface\": [{\"colorbar\": {\"outlinewidth\": 0, \"ticks\": \"\"}, \"colorscale\": [[0.0, \"#0d0887\"], [0.1111111111111111, \"#46039f\"], [0.2222222222222222, \"#7201a8\"], [0.3333333333333333, \"#9c179e\"], [0.4444444444444444, \"#bd3786\"], [0.5555555555555556, \"#d8576b\"], [0.6666666666666666, \"#ed7953\"], [0.7777777777777778, \"#fb9f3a\"], [0.8888888888888888, \"#fdca26\"], [1.0, \"#f0f921\"]], \"type\": \"surface\"}], \"table\": [{\"cells\": {\"fill\": {\"color\": \"#506784\"}, \"line\": {\"color\": \"rgb(17,17,17)\"}}, \"header\": {\"fill\": {\"color\": \"#2a3f5f\"}, \"line\": {\"color\": \"rgb(17,17,17)\"}}, \"type\": \"table\"}]}, \"layout\": {\"annotationdefaults\": {\"arrowcolor\": \"#f2f5fa\", \"arrowhead\": 0, \"arrowwidth\": 1}, \"coloraxis\": {\"colorbar\": {\"outlinewidth\": 0, \"ticks\": \"\"}}, \"colorscale\": {\"diverging\": [[0, \"#8e0152\"], [0.1, \"#c51b7d\"], [0.2, \"#de77ae\"], [0.3, \"#f1b6da\"], [0.4, \"#fde0ef\"], [0.5, \"#f7f7f7\"], [0.6, \"#e6f5d0\"], [0.7, \"#b8e186\"], [0.8, \"#7fbc41\"], [0.9, \"#4d9221\"], [1, \"#276419\"]], \"sequential\": [[0.0, \"#0d0887\"], [0.1111111111111111, \"#46039f\"], [0.2222222222222222, \"#7201a8\"], [0.3333333333333333, \"#9c179e\"], [0.4444444444444444, \"#bd3786\"], [0.5555555555555556, \"#d8576b\"], [0.6666666666666666, \"#ed7953\"], [0.7777777777777778, \"#fb9f3a\"], [0.8888888888888888, \"#fdca26\"], [1.0, \"#f0f921\"]], \"sequentialminus\": [[0.0, \"#0d0887\"], [0.1111111111111111, \"#46039f\"], [0.2222222222222222, \"#7201a8\"], [0.3333333333333333, \"#9c179e\"], [0.4444444444444444, \"#bd3786\"], [0.5555555555555556, \"#d8576b\"], [0.6666666666666666, \"#ed7953\"], [0.7777777777777778, \"#fb9f3a\"], [0.8888888888888888, \"#fdca26\"], [1.0, \"#f0f921\"]]}, \"colorway\": [\"#636efa\", \"#EF553B\", \"#00cc96\", \"#ab63fa\", \"#FFA15A\", \"#19d3f3\", \"#FF6692\", \"#B6E880\", \"#FF97FF\", \"#FECB52\"], \"font\": {\"color\": \"#f2f5fa\"}, \"geo\": {\"bgcolor\": \"rgb(17,17,17)\", \"lakecolor\": \"rgb(17,17,17)\", \"landcolor\": \"rgb(17,17,17)\", \"showlakes\": true, \"showland\": true, \"subunitcolor\": \"#506784\"}, \"hoverlabel\": {\"align\": \"left\"}, \"hovermode\": \"closest\", \"mapbox\": {\"style\": \"dark\"}, \"paper_bgcolor\": \"rgb(17,17,17)\", \"plot_bgcolor\": \"rgb(17,17,17)\", \"polar\": {\"angularaxis\": {\"gridcolor\": \"#506784\", \"linecolor\": \"#506784\", \"ticks\": \"\"}, \"bgcolor\": \"rgb(17,17,17)\", \"radialaxis\": {\"gridcolor\": \"#506784\", \"linecolor\": \"#506784\", \"ticks\": \"\"}}, \"scene\": {\"xaxis\": {\"backgroundcolor\": \"rgb(17,17,17)\", \"gridcolor\": \"#506784\", \"gridwidth\": 2, \"linecolor\": \"#506784\", \"showbackground\": true, \"ticks\": \"\", \"zerolinecolor\": \"#C8D4E3\"}, \"yaxis\": {\"backgroundcolor\": \"rgb(17,17,17)\", \"gridcolor\": \"#506784\", \"gridwidth\": 2, \"linecolor\": \"#506784\", \"showbackground\": true, \"ticks\": \"\", \"zerolinecolor\": \"#C8D4E3\"}, \"zaxis\": {\"backgroundcolor\": \"rgb(17,17,17)\", \"gridcolor\": \"#506784\", \"gridwidth\": 2, \"linecolor\": \"#506784\", \"showbackground\": true, \"ticks\": \"\", \"zerolinecolor\": \"#C8D4E3\"}}, \"shapedefaults\": {\"line\": {\"color\": \"#f2f5fa\"}}, \"sliderdefaults\": {\"bgcolor\": \"#C8D4E3\", \"bordercolor\": \"rgb(17,17,17)\", \"borderwidth\": 1, \"tickwidth\": 0}, \"ternary\": {\"aaxis\": {\"gridcolor\": \"#506784\", \"linecolor\": \"#506784\", \"ticks\": \"\"}, \"baxis\": {\"gridcolor\": \"#506784\", \"linecolor\": \"#506784\", \"ticks\": \"\"}, \"bgcolor\": \"rgb(17,17,17)\", \"caxis\": {\"gridcolor\": \"#506784\", \"linecolor\": \"#506784\", \"ticks\": \"\"}}, \"title\": {\"x\": 0.05}, \"updatemenudefaults\": {\"bgcolor\": \"#506784\", \"borderwidth\": 0}, \"xaxis\": {\"automargin\": true, \"gridcolor\": \"#283442\", \"linecolor\": \"#506784\", \"ticks\": \"\", \"title\": {\"standoff\": 15}, \"zerolinecolor\": \"#283442\", \"zerolinewidth\": 2}, \"yaxis\": {\"automargin\": true, \"gridcolor\": \"#283442\", \"linecolor\": \"#506784\", \"ticks\": \"\", \"title\": {\"standoff\": 15}, \"zerolinecolor\": \"#283442\", \"zerolinewidth\": 2}}}, \"title\": {\"text\": \"Total Cases per Country\"}, \"xaxis\": {\"anchor\": \"y\", \"domain\": [0.0, 1.0], \"title\": {\"text\": \"Country\"}}, \"yaxis\": {\"anchor\": \"x\", \"domain\": [0.0, 1.0], \"title\": {\"text\": \"Total Cases\"}}},                        {\"responsive\": true}                    ).then(function(){\n",
              "                            \n",
              "var gd = document.getElementById('93441212-03ae-4292-9f45-a146b94bf742');\n",
              "var x = new MutationObserver(function (mutations, observer) {{\n",
              "        var display = window.getComputedStyle(gd).display;\n",
              "        if (!display || display === 'none') {{\n",
              "            console.log([gd, 'removed!']);\n",
              "            Plotly.purge(gd);\n",
              "            observer.disconnect();\n",
              "        }}\n",
              "}});\n",
              "\n",
              "// Listen for the removal of the full notebook cells\n",
              "var notebookContainer = gd.closest('#notebook-container');\n",
              "if (notebookContainer) {{\n",
              "    x.observe(notebookContainer, {childList: true});\n",
              "}}\n",
              "\n",
              "// Listen for the clearing of the current output cell\n",
              "var outputEl = gd.closest('.output');\n",
              "if (outputEl) {{\n",
              "    x.observe(outputEl, {childList: true});\n",
              "}}\n",
              "\n",
              "                        })                };                            </script>        </div>\n",
              "</body>\n",
              "</html>"
            ]
          },
          "metadata": {
            "tags": []
          }
        }
      ]
    },
    {
      "cell_type": "markdown",
      "metadata": {
        "id": "BaU6RXA1a6Ma"
      },
      "source": [
        "## Interest Variable Per Income Group\n",
        "\n",
        "Just like the previous but displaying the sum of all y-axis values for each income gorup."
      ]
    },
    {
      "cell_type": "code",
      "metadata": {
        "colab": {
          "base_uri": "https://localhost:8080/",
          "height": 542
        },
        "id": "7c6POrCqa8Ac",
        "outputId": "1829f53b-434b-4199-9889-306cd50279b8"
      },
      "source": [
        "  fig = px.bar(data.groupby(by='income_group').sum().reset_index(),\n",
        "                  x='income_group',\n",
        "                  y='total_cases',\n",
        "                  color='income_group',\n",
        "                  template='plotly_dark',\n",
        "                  labels={'income_group':'Income Group',\n",
        "                          'total_cases':'Total Cases',\n",
        "                          'total_tests':'Total Tests',\n",
        "                          'total_deaths':'Total Deaths',\n",
        "                          'total_recovered':'Total Recovered'},\n",
        "                  title='Total Cases By Income Group')\n",
        "  fig.update_layout()"
      ],
      "execution_count": 14,
      "outputs": [
        {
          "output_type": "display_data",
          "data": {
            "text/html": [
              "<html>\n",
              "<head><meta charset=\"utf-8\" /></head>\n",
              "<body>\n",
              "    <div>            <script src=\"https://cdnjs.cloudflare.com/ajax/libs/mathjax/2.7.5/MathJax.js?config=TeX-AMS-MML_SVG\"></script><script type=\"text/javascript\">if (window.MathJax) {MathJax.Hub.Config({SVG: {font: \"STIX-Web\"}});}</script>                <script type=\"text/javascript\">window.PlotlyConfig = {MathJaxConfig: 'local'};</script>\n",
              "        <script src=\"https://cdn.plot.ly/plotly-latest.min.js\"></script>                <div id=\"cf75469e-d4d9-4c58-b7f8-413a75fb2a1e\" class=\"plotly-graph-div\" style=\"height:525px; width:100%;\"></div>            <script type=\"text/javascript\">                                    window.PLOTLYENV=window.PLOTLYENV || {};                                    if (document.getElementById(\"cf75469e-d4d9-4c58-b7f8-413a75fb2a1e\")) {                    Plotly.newPlot(                        \"cf75469e-d4d9-4c58-b7f8-413a75fb2a1e\",                        [{\"alignmentgroup\": \"True\", \"hovertemplate\": \"Income Group=%{x}<br>Total Cases=%{y}<extra></extra>\", \"legendgroup\": \"High income\", \"marker\": {\"color\": \"#636efa\"}, \"name\": \"High income\", \"offsetgroup\": \"High income\", \"orientation\": \"v\", \"showlegend\": true, \"textposition\": \"auto\", \"type\": \"bar\", \"x\": [\"High income\"], \"xaxis\": \"x\", \"y\": [13724659], \"yaxis\": \"y\"}, {\"alignmentgroup\": \"True\", \"hovertemplate\": \"Income Group=%{x}<br>Total Cases=%{y}<extra></extra>\", \"legendgroup\": \"Low income\", \"marker\": {\"color\": \"#EF553B\"}, \"name\": \"Low income\", \"offsetgroup\": \"Low income\", \"orientation\": \"v\", \"showlegend\": true, \"textposition\": \"auto\", \"type\": \"bar\", \"x\": [\"Low income\"], \"xaxis\": \"x\", \"y\": [233346], \"yaxis\": \"y\"}, {\"alignmentgroup\": \"True\", \"hovertemplate\": \"Income Group=%{x}<br>Total Cases=%{y}<extra></extra>\", \"legendgroup\": \"Lower middle income\", \"marker\": {\"color\": \"#00cc96\"}, \"name\": \"Lower middle income\", \"offsetgroup\": \"Lower middle income\", \"orientation\": \"v\", \"showlegend\": true, \"textposition\": \"auto\", \"type\": \"bar\", \"x\": [\"Lower middle income\"], \"xaxis\": \"x\", \"y\": [9332150], \"yaxis\": \"y\"}, {\"alignmentgroup\": \"True\", \"hovertemplate\": \"Income Group=%{x}<br>Total Cases=%{y}<extra></extra>\", \"legendgroup\": \"Upper middle income\", \"marker\": {\"color\": \"#ab63fa\"}, \"name\": \"Upper middle income\", \"offsetgroup\": \"Upper middle income\", \"orientation\": \"v\", \"showlegend\": true, \"textposition\": \"auto\", \"type\": \"bar\", \"x\": [\"Upper middle income\"], \"xaxis\": \"x\", \"y\": [11538467], \"yaxis\": \"y\"}],                        {\"barmode\": \"relative\", \"legend\": {\"title\": {\"text\": \"Income Group\"}, \"tracegroupgap\": 0}, \"template\": {\"data\": {\"bar\": [{\"error_x\": {\"color\": \"#f2f5fa\"}, \"error_y\": {\"color\": \"#f2f5fa\"}, \"marker\": {\"line\": {\"color\": \"rgb(17,17,17)\", \"width\": 0.5}}, \"type\": \"bar\"}], \"barpolar\": [{\"marker\": {\"line\": {\"color\": \"rgb(17,17,17)\", \"width\": 0.5}}, \"type\": \"barpolar\"}], \"carpet\": [{\"aaxis\": {\"endlinecolor\": \"#A2B1C6\", \"gridcolor\": \"#506784\", \"linecolor\": \"#506784\", \"minorgridcolor\": \"#506784\", \"startlinecolor\": \"#A2B1C6\"}, \"baxis\": {\"endlinecolor\": \"#A2B1C6\", \"gridcolor\": \"#506784\", \"linecolor\": \"#506784\", \"minorgridcolor\": \"#506784\", \"startlinecolor\": \"#A2B1C6\"}, \"type\": \"carpet\"}], \"choropleth\": [{\"colorbar\": {\"outlinewidth\": 0, \"ticks\": \"\"}, \"type\": \"choropleth\"}], \"contour\": [{\"colorbar\": {\"outlinewidth\": 0, \"ticks\": \"\"}, \"colorscale\": [[0.0, \"#0d0887\"], [0.1111111111111111, \"#46039f\"], [0.2222222222222222, \"#7201a8\"], [0.3333333333333333, \"#9c179e\"], [0.4444444444444444, \"#bd3786\"], [0.5555555555555556, \"#d8576b\"], [0.6666666666666666, \"#ed7953\"], [0.7777777777777778, \"#fb9f3a\"], [0.8888888888888888, \"#fdca26\"], [1.0, \"#f0f921\"]], \"type\": \"contour\"}], \"contourcarpet\": [{\"colorbar\": {\"outlinewidth\": 0, \"ticks\": \"\"}, \"type\": \"contourcarpet\"}], \"heatmap\": [{\"colorbar\": {\"outlinewidth\": 0, \"ticks\": \"\"}, \"colorscale\": [[0.0, \"#0d0887\"], [0.1111111111111111, \"#46039f\"], [0.2222222222222222, \"#7201a8\"], [0.3333333333333333, \"#9c179e\"], [0.4444444444444444, \"#bd3786\"], [0.5555555555555556, \"#d8576b\"], [0.6666666666666666, \"#ed7953\"], [0.7777777777777778, \"#fb9f3a\"], [0.8888888888888888, \"#fdca26\"], [1.0, \"#f0f921\"]], \"type\": \"heatmap\"}], \"heatmapgl\": [{\"colorbar\": {\"outlinewidth\": 0, \"ticks\": \"\"}, \"colorscale\": [[0.0, \"#0d0887\"], [0.1111111111111111, \"#46039f\"], [0.2222222222222222, \"#7201a8\"], [0.3333333333333333, \"#9c179e\"], [0.4444444444444444, \"#bd3786\"], [0.5555555555555556, \"#d8576b\"], [0.6666666666666666, \"#ed7953\"], [0.7777777777777778, \"#fb9f3a\"], [0.8888888888888888, \"#fdca26\"], [1.0, \"#f0f921\"]], \"type\": \"heatmapgl\"}], \"histogram\": [{\"marker\": {\"colorbar\": {\"outlinewidth\": 0, \"ticks\": \"\"}}, \"type\": \"histogram\"}], \"histogram2d\": [{\"colorbar\": {\"outlinewidth\": 0, \"ticks\": \"\"}, \"colorscale\": [[0.0, \"#0d0887\"], [0.1111111111111111, \"#46039f\"], [0.2222222222222222, \"#7201a8\"], [0.3333333333333333, \"#9c179e\"], [0.4444444444444444, \"#bd3786\"], [0.5555555555555556, \"#d8576b\"], [0.6666666666666666, \"#ed7953\"], [0.7777777777777778, \"#fb9f3a\"], [0.8888888888888888, \"#fdca26\"], [1.0, \"#f0f921\"]], \"type\": \"histogram2d\"}], \"histogram2dcontour\": [{\"colorbar\": {\"outlinewidth\": 0, \"ticks\": \"\"}, \"colorscale\": [[0.0, \"#0d0887\"], [0.1111111111111111, \"#46039f\"], [0.2222222222222222, \"#7201a8\"], [0.3333333333333333, \"#9c179e\"], [0.4444444444444444, \"#bd3786\"], [0.5555555555555556, \"#d8576b\"], [0.6666666666666666, \"#ed7953\"], [0.7777777777777778, \"#fb9f3a\"], [0.8888888888888888, \"#fdca26\"], [1.0, \"#f0f921\"]], \"type\": \"histogram2dcontour\"}], \"mesh3d\": [{\"colorbar\": {\"outlinewidth\": 0, \"ticks\": \"\"}, \"type\": \"mesh3d\"}], \"parcoords\": [{\"line\": {\"colorbar\": {\"outlinewidth\": 0, \"ticks\": \"\"}}, \"type\": \"parcoords\"}], \"pie\": [{\"automargin\": true, \"type\": \"pie\"}], \"scatter\": [{\"marker\": {\"line\": {\"color\": \"#283442\"}}, \"type\": \"scatter\"}], \"scatter3d\": [{\"line\": {\"colorbar\": {\"outlinewidth\": 0, \"ticks\": \"\"}}, \"marker\": {\"colorbar\": {\"outlinewidth\": 0, \"ticks\": \"\"}}, \"type\": \"scatter3d\"}], \"scattercarpet\": [{\"marker\": {\"colorbar\": {\"outlinewidth\": 0, \"ticks\": \"\"}}, \"type\": \"scattercarpet\"}], \"scattergeo\": [{\"marker\": {\"colorbar\": {\"outlinewidth\": 0, \"ticks\": \"\"}}, \"type\": \"scattergeo\"}], \"scattergl\": [{\"marker\": {\"line\": {\"color\": \"#283442\"}}, \"type\": \"scattergl\"}], \"scattermapbox\": [{\"marker\": {\"colorbar\": {\"outlinewidth\": 0, \"ticks\": \"\"}}, \"type\": \"scattermapbox\"}], \"scatterpolar\": [{\"marker\": {\"colorbar\": {\"outlinewidth\": 0, \"ticks\": \"\"}}, \"type\": \"scatterpolar\"}], \"scatterpolargl\": [{\"marker\": {\"colorbar\": {\"outlinewidth\": 0, \"ticks\": \"\"}}, \"type\": \"scatterpolargl\"}], \"scatterternary\": [{\"marker\": {\"colorbar\": {\"outlinewidth\": 0, \"ticks\": \"\"}}, \"type\": \"scatterternary\"}], \"surface\": [{\"colorbar\": {\"outlinewidth\": 0, \"ticks\": \"\"}, \"colorscale\": [[0.0, \"#0d0887\"], [0.1111111111111111, \"#46039f\"], [0.2222222222222222, \"#7201a8\"], [0.3333333333333333, \"#9c179e\"], [0.4444444444444444, \"#bd3786\"], [0.5555555555555556, \"#d8576b\"], [0.6666666666666666, \"#ed7953\"], [0.7777777777777778, \"#fb9f3a\"], [0.8888888888888888, \"#fdca26\"], [1.0, \"#f0f921\"]], \"type\": \"surface\"}], \"table\": [{\"cells\": {\"fill\": {\"color\": \"#506784\"}, \"line\": {\"color\": \"rgb(17,17,17)\"}}, \"header\": {\"fill\": {\"color\": \"#2a3f5f\"}, \"line\": {\"color\": \"rgb(17,17,17)\"}}, \"type\": \"table\"}]}, \"layout\": {\"annotationdefaults\": {\"arrowcolor\": \"#f2f5fa\", \"arrowhead\": 0, \"arrowwidth\": 1}, \"coloraxis\": {\"colorbar\": {\"outlinewidth\": 0, \"ticks\": \"\"}}, \"colorscale\": {\"diverging\": [[0, \"#8e0152\"], [0.1, \"#c51b7d\"], [0.2, \"#de77ae\"], [0.3, \"#f1b6da\"], [0.4, \"#fde0ef\"], [0.5, \"#f7f7f7\"], [0.6, \"#e6f5d0\"], [0.7, \"#b8e186\"], [0.8, \"#7fbc41\"], [0.9, \"#4d9221\"], [1, \"#276419\"]], \"sequential\": [[0.0, \"#0d0887\"], [0.1111111111111111, \"#46039f\"], [0.2222222222222222, \"#7201a8\"], [0.3333333333333333, \"#9c179e\"], [0.4444444444444444, \"#bd3786\"], [0.5555555555555556, \"#d8576b\"], [0.6666666666666666, \"#ed7953\"], [0.7777777777777778, \"#fb9f3a\"], [0.8888888888888888, \"#fdca26\"], [1.0, \"#f0f921\"]], \"sequentialminus\": [[0.0, \"#0d0887\"], [0.1111111111111111, \"#46039f\"], [0.2222222222222222, \"#7201a8\"], [0.3333333333333333, \"#9c179e\"], [0.4444444444444444, \"#bd3786\"], [0.5555555555555556, \"#d8576b\"], [0.6666666666666666, \"#ed7953\"], [0.7777777777777778, \"#fb9f3a\"], [0.8888888888888888, \"#fdca26\"], [1.0, \"#f0f921\"]]}, \"colorway\": [\"#636efa\", \"#EF553B\", \"#00cc96\", \"#ab63fa\", \"#FFA15A\", \"#19d3f3\", \"#FF6692\", \"#B6E880\", \"#FF97FF\", \"#FECB52\"], \"font\": {\"color\": \"#f2f5fa\"}, \"geo\": {\"bgcolor\": \"rgb(17,17,17)\", \"lakecolor\": \"rgb(17,17,17)\", \"landcolor\": \"rgb(17,17,17)\", \"showlakes\": true, \"showland\": true, \"subunitcolor\": \"#506784\"}, \"hoverlabel\": {\"align\": \"left\"}, \"hovermode\": \"closest\", \"mapbox\": {\"style\": \"dark\"}, \"paper_bgcolor\": \"rgb(17,17,17)\", \"plot_bgcolor\": \"rgb(17,17,17)\", \"polar\": {\"angularaxis\": {\"gridcolor\": \"#506784\", \"linecolor\": \"#506784\", \"ticks\": \"\"}, \"bgcolor\": \"rgb(17,17,17)\", \"radialaxis\": {\"gridcolor\": \"#506784\", \"linecolor\": \"#506784\", \"ticks\": \"\"}}, \"scene\": {\"xaxis\": {\"backgroundcolor\": \"rgb(17,17,17)\", \"gridcolor\": \"#506784\", \"gridwidth\": 2, \"linecolor\": \"#506784\", \"showbackground\": true, \"ticks\": \"\", \"zerolinecolor\": \"#C8D4E3\"}, \"yaxis\": {\"backgroundcolor\": \"rgb(17,17,17)\", \"gridcolor\": \"#506784\", \"gridwidth\": 2, \"linecolor\": \"#506784\", \"showbackground\": true, \"ticks\": \"\", \"zerolinecolor\": \"#C8D4E3\"}, \"zaxis\": {\"backgroundcolor\": \"rgb(17,17,17)\", \"gridcolor\": \"#506784\", \"gridwidth\": 2, \"linecolor\": \"#506784\", \"showbackground\": true, \"ticks\": \"\", \"zerolinecolor\": \"#C8D4E3\"}}, \"shapedefaults\": {\"line\": {\"color\": \"#f2f5fa\"}}, \"sliderdefaults\": {\"bgcolor\": \"#C8D4E3\", \"bordercolor\": \"rgb(17,17,17)\", \"borderwidth\": 1, \"tickwidth\": 0}, \"ternary\": {\"aaxis\": {\"gridcolor\": \"#506784\", \"linecolor\": \"#506784\", \"ticks\": \"\"}, \"baxis\": {\"gridcolor\": \"#506784\", \"linecolor\": \"#506784\", \"ticks\": \"\"}, \"bgcolor\": \"rgb(17,17,17)\", \"caxis\": {\"gridcolor\": \"#506784\", \"linecolor\": \"#506784\", \"ticks\": \"\"}}, \"title\": {\"x\": 0.05}, \"updatemenudefaults\": {\"bgcolor\": \"#506784\", \"borderwidth\": 0}, \"xaxis\": {\"automargin\": true, \"gridcolor\": \"#283442\", \"linecolor\": \"#506784\", \"ticks\": \"\", \"title\": {\"standoff\": 15}, \"zerolinecolor\": \"#283442\", \"zerolinewidth\": 2}, \"yaxis\": {\"automargin\": true, \"gridcolor\": \"#283442\", \"linecolor\": \"#506784\", \"ticks\": \"\", \"title\": {\"standoff\": 15}, \"zerolinecolor\": \"#283442\", \"zerolinewidth\": 2}}}, \"title\": {\"text\": \"Total Cases By Income Group\"}, \"xaxis\": {\"anchor\": \"y\", \"categoryarray\": [\"High income\", \"Low income\", \"Lower middle income\", \"Upper middle income\"], \"categoryorder\": \"array\", \"domain\": [0.0, 1.0], \"title\": {\"text\": \"Income Group\"}}, \"yaxis\": {\"anchor\": \"x\", \"domain\": [0.0, 1.0], \"title\": {\"text\": \"Total Cases\"}}},                        {\"responsive\": true}                    ).then(function(){\n",
              "                            \n",
              "var gd = document.getElementById('cf75469e-d4d9-4c58-b7f8-413a75fb2a1e');\n",
              "var x = new MutationObserver(function (mutations, observer) {{\n",
              "        var display = window.getComputedStyle(gd).display;\n",
              "        if (!display || display === 'none') {{\n",
              "            console.log([gd, 'removed!']);\n",
              "            Plotly.purge(gd);\n",
              "            observer.disconnect();\n",
              "        }}\n",
              "}});\n",
              "\n",
              "// Listen for the removal of the full notebook cells\n",
              "var notebookContainer = gd.closest('#notebook-container');\n",
              "if (notebookContainer) {{\n",
              "    x.observe(notebookContainer, {childList: true});\n",
              "}}\n",
              "\n",
              "// Listen for the clearing of the current output cell\n",
              "var outputEl = gd.closest('.output');\n",
              "if (outputEl) {{\n",
              "    x.observe(outputEl, {childList: true});\n",
              "}}\n",
              "\n",
              "                        })                };                            </script>        </div>\n",
              "</body>\n",
              "</html>"
            ]
          },
          "metadata": {
            "tags": []
          }
        }
      ]
    },
    {
      "cell_type": "markdown",
      "metadata": {
        "id": "hd_6cB15bLiD"
      },
      "source": [
        "## The Dash App\n",
        "### The Final Visualization\n",
        "\n",
        "At last, we get to put everything together into a final dash app that makes use of Plotly Dash's layout and intractivity features, which are done via the callbacks.\n",
        "\n",
        "In order to display our dashboard, we'll want to save it to a .py file, hence the %%writefile magic function at the start of the following cell.\n",
        "\n",
        "To make things easier, I've also uploaded our processed dataset into github and left it available here. That way we can simply read the .csv file instead of copying all of our code from above.\n"
      ]
    },
    {
      "cell_type": "code",
      "metadata": {
        "colab": {
          "base_uri": "https://localhost:8080/"
        },
        "id": "YiiLmjQmbLBk",
        "outputId": "13cdbf57-172a-414d-9c41-f911b23f1bb5"
      },
      "source": [
        "%%writefile my_dash_app.py\n",
        "import dash\n",
        "from dash.dependencies import Output, Input\n",
        "import dash_core_components as dcc\n",
        "import dash_html_components as html\n",
        "import plotly.express as px\n",
        "import pandas as pd\n",
        "\n",
        "\n",
        "external_stylesheets = ['https://codepen.io/chriddyp/pen/bWLwgP.css']\n",
        "app = dash.Dash(__name__, external_stylesheets=external_stylesheets)\n",
        "\n",
        "colors = {\n",
        "    'background': '#FFFFFF',\n",
        "    'text': '#7FDBFF'\n",
        "}\n",
        "\n",
        "# Reading The Dataset \n",
        "\n",
        "data = pd.read_csv('https://raw.githubusercontent.com/Gichere/datasets/main/covid_worldwide.csv')\n",
        "\n",
        "# Defining App Layout \n",
        "\n",
        "app.layout = html.Div(style={'backgroundColor': colors['background']}, children=[\n",
        "      html.H1('Visualizing Civid-19 Worldwide', style={'textAlign':'center'}),\n",
        "      html.Div([\n",
        "          html.Div([ \n",
        "              html.Label('Population'),\n",
        "              dcc.Slider(\n",
        "                  id='population-slider',\n",
        "                  min=data.population.min(),\n",
        "                  max=data.population.max(),\n",
        "                  marks={\n",
        "                    72037 : '72K',\n",
        "                    80000000 : '80M',\n",
        "                    150000000 : '150M',\n",
        "                    300000000 : '300M',\n",
        "                    700000000 : '700M',\n",
        "                    1000000000 : '1B',\n",
        "                    1439323776 : '1.4B' \n",
        "                  },\n",
        "                  value=data.population.min(),\n",
        "                  step=100000000,\n",
        "                  updatemode='drag'\n",
        "              )\n",
        "          ]),\n",
        "          html.Div([\n",
        "              html.Label('Interest Variable'),\n",
        "              dcc.Dropdown(\n",
        "                  id='interest-variable',\n",
        "                  options=[{'label':'Total Cases', 'value':'total_cases'},\n",
        "                           {'label': 'Total Tests', 'value':'total_tests'},\n",
        "                           {'label': 'Total Deaths', 'value':'total_deaths'},\n",
        "                           {'label': 'Total Recovered', 'value':'total_recovered'}],\n",
        "                  value='total_cases' \n",
        "              )\n",
        "          ])\n",
        "      ], style = {'width':'90%','margin':'auto'}),      \n",
        "      html.Div([ \n",
        "              dcc.Graph(\n",
        "                  id='covid-vs-edu',\n",
        "              ),    \n",
        "          html.Div(\n",
        "              dcc.Graph(\n",
        "                  id='covid-vs-income',\n",
        "              )\n",
        "      , style = {'width': '50%', 'display': 'inline-block'}),\n",
        "          html.Div( \n",
        "              dcc.Graph(\n",
        "                  id='covid-vs-income2',\n",
        "              )\n",
        "      , style = {'width': '50%', 'display': 'inline-block'})\n",
        "      ], style = {'width':'90%','margin':'auto'})\n",
        "])\n",
        "\n",
        "def scatter_y_label (var):\n",
        "  if var == 'total_cases':\n",
        "    return 'Percentage Infected'\n",
        "  elif var == 'total_tests':\n",
        "    return 'Percentage Tested'\n",
        "  elif var == 'total_deaths':\n",
        "    return 'Percentage Dead'\n",
        "  elif var == 'total_recovered':\n",
        "    return 'Percentage Recovered'\n",
        "\n",
        "# Variable VS Education Level Scatter Plot\n",
        "\n",
        "@app.callback(Output('covid-vs-edu', 'figure'),\n",
        "              [Input('population-slider', 'value'),\n",
        "               Input('interest-variable', 'value')])             \n",
        "def update_scatter(selected_pop, interest_var):\n",
        "  sorted = data[data.population <= selected_pop]\n",
        "  fig = px.scatter(sorted,\n",
        "                  x='expected_years_of_school',\n",
        "                  y=sorted[interest_var]/sorted.population,\n",
        "                  size='population',\n",
        "                  color='income_group',\n",
        "                  hover_name='country',\n",
        "                  template='plotly_dark',\n",
        "                  labels={'expected_years_of_school':'Expected Years of School',\n",
        "                          'y': scatter_y_label(interest_var)},\n",
        "                  title='Total Cases VS Education Level')\n",
        "  fig.update_layout(transition_duration=500)\n",
        "  return fig\n",
        "\n",
        "# Variable Per Income Group Bar Chart\n",
        "\n",
        "@app.callback(Output('covid-vs-income', 'figure'),\n",
        "              [Input('population-slider', 'value'),\n",
        "               Input('interest-variable', 'value')])             \n",
        "def update_income_bar(selected_pop, interest_var):\n",
        "  sorted = data[data.population <= selected_pop].groupby(by='income_group').sum().reset_index()\n",
        "  fig = px.bar(sorted,\n",
        "                  x='income_group',\n",
        "                  y=interest_var,\n",
        "                  color='income_group',\n",
        "                  template='plotly_dark',\n",
        "                  labels={'income_group':'Income Group',\n",
        "                          'total_cases':'Total Cases',\n",
        "                          'total_tests':'Total Tests',\n",
        "                          'total_deaths':'Total Deaths',\n",
        "                          'total_recovered':'Total Recovered'},\n",
        "                  title='Total Cases By Income Group')\n",
        "  fig.update_layout()\n",
        "  return fig\n",
        "\n",
        "# Variable Per Country Bar Chart\n",
        "\n",
        "@app.callback(Output('covid-vs-income2', 'figure'),\n",
        "              [Input('population-slider', 'value'),\n",
        "               Input('interest-variable', 'value')])             \n",
        "def update_country_bar(selected_pop, interest_var):\n",
        "  sorted = data[data.population <= selected_pop]\n",
        "  fig = px.bar(sorted, \n",
        "                x='country', \n",
        "                y=interest_var, \n",
        "                color='income_group',\n",
        "                template='plotly_dark',\n",
        "                labels={'country':'Country',\n",
        "                        'total_cases':'Total Cases',\n",
        "                        'total_tests':'Total Tests',\n",
        "                        'total_deaths':'Total Deaths',\n",
        "                        'total_recovered':'Total Recovered'},\n",
        "                title='Total Cases per Country')\n",
        "  fig.update_layout()\n",
        "  return fig\n",
        "\n",
        "if __name__ == '__main__':\n",
        "    app.run_server(debug=False, use_reloader=False)"
      ],
      "execution_count": 27,
      "outputs": [
        {
          "output_type": "stream",
          "text": [
            "Overwriting my_dash_app.py\n"
          ],
          "name": "stdout"
        }
      ]
    },
    {
      "cell_type": "code",
      "metadata": {
        "colab": {
          "base_uri": "https://localhost:8080/"
        },
        "id": "GXMXitRVux0E",
        "outputId": "04aded1e-b417-4eeb-a2ce-a881e1a02f21"
      },
      "source": [
        "!python my_dash_app.py"
      ],
      "execution_count": 16,
      "outputs": [
        {
          "output_type": "stream",
          "text": [
            "Dash is running on http://127.0.0.1:8050/\n",
            "\n",
            " * Serving Flask app \"my_dash_app\" (lazy loading)\n",
            " * Environment: production\n",
            "\u001b[31m   WARNING: This is a development server. Do not use it in a production deployment.\u001b[0m\n",
            "\u001b[2m   Use a production WSGI server instead.\u001b[0m\n",
            " * Debug mode: off\n",
            " * Running on http://127.0.0.1:8050/ (Press CTRL+C to quit)\n",
            "^C\n"
          ],
          "name": "stdout"
        }
      ]
    },
    {
      "cell_type": "code",
      "metadata": {
        "id": "MC8jS-jqQn35"
      },
      "source": [
        "def download_ngrok():\n",
        "    if not os.path.isfile('ngrok'):\n",
        "        !wget https://bin.equinox.io/c/4VmDzA7iaHb/ngrok-stable-linux-amd64.zip\n",
        "        !unzip -o ngrok-stable-linux-amd64.zip\n",
        "    pass"
      ],
      "execution_count": 18,
      "outputs": []
    },
    {
      "cell_type": "code",
      "metadata": {
        "id": "UEJz9T7yRQq7"
      },
      "source": [
        "Response = namedtuple('Response', ['url', 'error'])\n",
        "\n",
        "def get_tunnel():\n",
        "    try:\n",
        "        Tunnel = subprocess.Popen(['./ngrok','http','8050'])\n",
        "\n",
        "        session = requests.Session()\n",
        "        retry = Retry(connect=3, backoff_factor=0.5)\n",
        "        adapter = HTTPAdapter(max_retries=retry)\n",
        "        session.mount('http://', adapter)\n",
        "\n",
        "        res = session.get('http://localhost:4040/api/tunnels')\n",
        "        res.raise_for_status()\n",
        "\n",
        "        tunnel_str = res.text\n",
        "        tunnel_cfg = json.loads(tunnel_str)\n",
        "        tunnel_url = tunnel_cfg['tunnels'][0]['public_url']\n",
        "\n",
        "        return Response(url=tunnel_url, error=None)\n",
        "    except RequestException as e:\n",
        "        return Response(url=None, error=str(e))"
      ],
      "execution_count": 19,
      "outputs": []
    },
    {
      "cell_type": "code",
      "metadata": {
        "colab": {
          "base_uri": "https://localhost:8080/"
        },
        "id": "KiLjISLuRYzw",
        "outputId": "d6421f6b-4122-487c-ad5f-cab1a6361a7e"
      },
      "source": [
        "download_ngrok()"
      ],
      "execution_count": 20,
      "outputs": [
        {
          "output_type": "stream",
          "text": [
            "--2020-12-12 18:45:25--  https://bin.equinox.io/c/4VmDzA7iaHb/ngrok-stable-linux-amd64.zip\n",
            "Resolving bin.equinox.io (bin.equinox.io)... 35.174.46.144, 52.22.13.178, 52.54.205.131, ...\n",
            "Connecting to bin.equinox.io (bin.equinox.io)|35.174.46.144|:443... connected.\n",
            "HTTP request sent, awaiting response... 200 OK\n",
            "Length: 13773305 (13M) [application/octet-stream]\n",
            "Saving to: ‘ngrok-stable-linux-amd64.zip’\n",
            "\n",
            "ngrok-stable-linux- 100%[===================>]  13.13M  19.1MB/s    in 0.7s    \n",
            "\n",
            "2020-12-12 18:45:26 (19.1 MB/s) - ‘ngrok-stable-linux-amd64.zip’ saved [13773305/13773305]\n",
            "\n",
            "Archive:  ngrok-stable-linux-amd64.zip\n",
            "  inflating: ngrok                   \n"
          ],
          "name": "stdout"
        }
      ]
    },
    {
      "cell_type": "code",
      "metadata": {
        "colab": {
          "base_uri": "https://localhost:8080/"
        },
        "id": "Mdr3uczSRdXh",
        "outputId": "19d21e2c-65ad-4096-f640-f28451993048"
      },
      "source": [
        "out = get_tunnel()\n",
        "print(out)\n",
        "!python my_dash_app.py"
      ],
      "execution_count": null,
      "outputs": [
        {
          "output_type": "stream",
          "text": [
            "Response(url='http://973c14492edc.ngrok.io', error=None)\n",
            "Dash is running on http://127.0.0.1:8050/\n",
            "\n",
            " * Serving Flask app \"my_dash_app\" (lazy loading)\n",
            " * Environment: production\n",
            "\u001b[31m   WARNING: This is a development server. Do not use it in a production deployment.\u001b[0m\n",
            "\u001b[2m   Use a production WSGI server instead.\u001b[0m\n",
            " * Debug mode: off\n",
            " * Running on http://127.0.0.1:8050/ (Press CTRL+C to quit)\n",
            "127.0.0.1 - - [12/Dec/2020 19:01:36] \"\u001b[37mGET / HTTP/1.1\u001b[0m\" 200 -\n",
            "127.0.0.1 - - [12/Dec/2020 19:01:36] \"\u001b[37mGET /_dash-component-suites/dash_renderer/react@16.v1_8_3m1607798580.14.0.min.js HTTP/1.1\u001b[0m\" 200 -\n",
            "127.0.0.1 - - [12/Dec/2020 19:01:36] \"\u001b[37mGET /_dash-component-suites/dash_renderer/polyfill@7.v1_8_3m1607798580.8.7.min.js HTTP/1.1\u001b[0m\" 200 -\n",
            "127.0.0.1 - - [12/Dec/2020 19:01:36] \"\u001b[37mGET /_dash-component-suites/dash_renderer/react-dom@16.v1_8_3m1607798580.14.0.min.js HTTP/1.1\u001b[0m\" 200 -\n",
            "127.0.0.1 - - [12/Dec/2020 19:01:37] \"\u001b[37mGET /_dash-component-suites/dash_renderer/prop-types@15.v1_8_3m1607798580.7.2.min.js HTTP/1.1\u001b[0m\" 200 -\n",
            "127.0.0.1 - - [12/Dec/2020 19:01:37] \"\u001b[37mGET /_dash-component-suites/dash_html_components/dash_html_components.v1_1_1m1607798583.min.js HTTP/1.1\u001b[0m\" 200 -\n",
            "127.0.0.1 - - [12/Dec/2020 19:01:37] \"\u001b[37mGET /_dash-component-suites/dash_core_components/dash_core_components.v1_14_1m1607798582.min.js HTTP/1.1\u001b[0m\" 200 -\n",
            "127.0.0.1 - - [12/Dec/2020 19:01:37] \"\u001b[37mGET /_dash-component-suites/dash_core_components/dash_core_components-shared.v1_14_1m1607798582.js HTTP/1.1\u001b[0m\" 200 -\n",
            "127.0.0.1 - - [12/Dec/2020 19:01:37] \"\u001b[37mGET /_dash-component-suites/dash_renderer/dash_renderer.v1_8_3m1607798580.min.js HTTP/1.1\u001b[0m\" 200 -\n",
            "127.0.0.1 - - [12/Dec/2020 19:01:38] \"\u001b[37mGET /_dash-dependencies HTTP/1.1\u001b[0m\" 200 -\n",
            "127.0.0.1 - - [12/Dec/2020 19:01:38] \"\u001b[37mGET /_dash-layout HTTP/1.1\u001b[0m\" 200 -\n",
            "127.0.0.1 - - [12/Dec/2020 19:01:38] \"\u001b[37mGET /_favicon.ico?v=1.18.1 HTTP/1.1\u001b[0m\" 200 -\n",
            "127.0.0.1 - - [12/Dec/2020 19:01:39] \"\u001b[37mGET /_dash-component-suites/dash_core_components/async-graph.v1_14_1m1607534654.js HTTP/1.1\u001b[0m\" 200 -\n",
            "127.0.0.1 - - [12/Dec/2020 19:01:39] \"\u001b[37mGET /_dash-component-suites/dash_core_components/async-dropdown.v1_14_1m1607534654.js HTTP/1.1\u001b[0m\" 200 -\n",
            "127.0.0.1 - - [12/Dec/2020 19:01:39] \"\u001b[37mGET /_dash-component-suites/dash_core_components/async-slider.v1_14_1m1607534654.js HTTP/1.1\u001b[0m\" 200 -\n",
            "127.0.0.1 - - [12/Dec/2020 19:01:39] \"\u001b[37mGET /_dash-component-suites/dash_core_components/async-plotlyjs.v1_14_1m1607534654.js HTTP/1.1\u001b[0m\" 200 -\n",
            "127.0.0.1 - - [12/Dec/2020 19:01:40] \"\u001b[37mPOST /_dash-update-component HTTP/1.1\u001b[0m\" 200 -\n",
            "127.0.0.1 - - [12/Dec/2020 19:01:40] \"\u001b[37mPOST /_dash-update-component HTTP/1.1\u001b[0m\" 200 -\n",
            "127.0.0.1 - - [12/Dec/2020 19:01:40] \"\u001b[37mPOST /_dash-update-component HTTP/1.1\u001b[0m\" 200 -\n",
            "127.0.0.1 - - [12/Dec/2020 19:02:00] \"\u001b[37mPOST /_dash-update-component HTTP/1.1\u001b[0m\" 200 -\n",
            "127.0.0.1 - - [12/Dec/2020 19:02:00] \"\u001b[37mPOST /_dash-update-component HTTP/1.1\u001b[0m\" 200 -\n",
            "127.0.0.1 - - [12/Dec/2020 19:02:00] \"\u001b[37mPOST /_dash-update-component HTTP/1.1\u001b[0m\" 200 -\n",
            "127.0.0.1 - - [12/Dec/2020 19:02:04] \"\u001b[37mPOST /_dash-update-component HTTP/1.1\u001b[0m\" 200 -\n",
            "127.0.0.1 - - [12/Dec/2020 19:02:05] \"\u001b[37mPOST /_dash-update-component HTTP/1.1\u001b[0m\" 200 -\n",
            "127.0.0.1 - - [12/Dec/2020 19:02:05] \"\u001b[37mPOST /_dash-update-component HTTP/1.1\u001b[0m\" 200 -\n",
            "127.0.0.1 - - [12/Dec/2020 19:02:05] \"\u001b[37mPOST /_dash-update-component HTTP/1.1\u001b[0m\" 200 -\n",
            "127.0.0.1 - - [12/Dec/2020 19:02:05] \"\u001b[37mPOST /_dash-update-component HTTP/1.1\u001b[0m\" 200 -\n",
            "127.0.0.1 - - [12/Dec/2020 19:02:05] \"\u001b[37mPOST /_dash-update-component HTTP/1.1\u001b[0m\" 200 -\n",
            "127.0.0.1 - - [12/Dec/2020 19:02:05] \"\u001b[37mPOST /_dash-update-component HTTP/1.1\u001b[0m\" 200 -\n",
            "127.0.0.1 - - [12/Dec/2020 19:02:05] \"\u001b[37mPOST /_dash-update-component HTTP/1.1\u001b[0m\" 200 -\n",
            "127.0.0.1 - - [12/Dec/2020 19:02:05] \"\u001b[37mPOST /_dash-update-component HTTP/1.1\u001b[0m\" 200 -\n",
            "127.0.0.1 - - [12/Dec/2020 19:02:08] \"\u001b[37mPOST /_dash-update-component HTTP/1.1\u001b[0m\" 200 -\n",
            "127.0.0.1 - - [12/Dec/2020 19:02:08] \"\u001b[37mPOST /_dash-update-component HTTP/1.1\u001b[0m\" 200 -\n",
            "127.0.0.1 - - [12/Dec/2020 19:02:08] \"\u001b[37mPOST /_dash-update-component HTTP/1.1\u001b[0m\" 200 -\n",
            "127.0.0.1 - - [12/Dec/2020 19:02:08] \"\u001b[37mPOST /_dash-update-component HTTP/1.1\u001b[0m\" 200 -\n",
            "127.0.0.1 - - [12/Dec/2020 19:02:08] \"\u001b[37mPOST /_dash-update-component HTTP/1.1\u001b[0m\" 200 -\n",
            "127.0.0.1 - - [12/Dec/2020 19:02:08] \"\u001b[37mPOST /_dash-update-component HTTP/1.1\u001b[0m\" 200 -\n",
            "127.0.0.1 - - [12/Dec/2020 19:07:51] \"\u001b[37mPOST /_dash-update-component HTTP/1.1\u001b[0m\" 200 -\n",
            "127.0.0.1 - - [12/Dec/2020 19:07:51] \"\u001b[37mPOST /_dash-update-component HTTP/1.1\u001b[0m\" 200 -\n",
            "127.0.0.1 - - [12/Dec/2020 19:07:51] \"\u001b[37mPOST /_dash-update-component HTTP/1.1\u001b[0m\" 200 -\n",
            "127.0.0.1 - - [12/Dec/2020 19:07:52] \"\u001b[37mPOST /_dash-update-component HTTP/1.1\u001b[0m\" 200 -\n",
            "127.0.0.1 - - [12/Dec/2020 19:07:52] \"\u001b[37mPOST /_dash-update-component HTTP/1.1\u001b[0m\" 200 -\n",
            "127.0.0.1 - - [12/Dec/2020 19:07:52] \"\u001b[37mPOST /_dash-update-component HTTP/1.1\u001b[0m\" 200 -\n",
            "127.0.0.1 - - [12/Dec/2020 19:07:54] \"\u001b[37mPOST /_dash-update-component HTTP/1.1\u001b[0m\" 200 -\n",
            "127.0.0.1 - - [12/Dec/2020 19:07:54] \"\u001b[37mPOST /_dash-update-component HTTP/1.1\u001b[0m\" 200 -\n",
            "127.0.0.1 - - [12/Dec/2020 19:07:54] \"\u001b[37mPOST /_dash-update-component HTTP/1.1\u001b[0m\" 200 -\n",
            "127.0.0.1 - - [12/Dec/2020 19:07:54] \"\u001b[37mPOST /_dash-update-component HTTP/1.1\u001b[0m\" 200 -\n",
            "127.0.0.1 - - [12/Dec/2020 19:07:54] \"\u001b[37mPOST /_dash-update-component HTTP/1.1\u001b[0m\" 200 -\n",
            "127.0.0.1 - - [12/Dec/2020 19:07:54] \"\u001b[37mPOST /_dash-update-component HTTP/1.1\u001b[0m\" 200 -\n",
            "127.0.0.1 - - [12/Dec/2020 19:09:33] \"\u001b[37mPOST /_dash-update-component HTTP/1.1\u001b[0m\" 200 -\n",
            "127.0.0.1 - - [12/Dec/2020 19:09:33] \"\u001b[37mPOST /_dash-update-component HTTP/1.1\u001b[0m\" 200 -\n",
            "127.0.0.1 - - [12/Dec/2020 19:09:33] \"\u001b[37mPOST /_dash-update-component HTTP/1.1\u001b[0m\" 200 -\n",
            "127.0.0.1 - - [12/Dec/2020 19:09:39] \"\u001b[37mPOST /_dash-update-component HTTP/1.1\u001b[0m\" 200 -\n",
            "127.0.0.1 - - [12/Dec/2020 19:09:39] \"\u001b[37mPOST /_dash-update-component HTTP/1.1\u001b[0m\" 200 -\n",
            "127.0.0.1 - - [12/Dec/2020 19:09:39] \"\u001b[37mPOST /_dash-update-component HTTP/1.1\u001b[0m\" 200 -\n",
            "127.0.0.1 - - [12/Dec/2020 19:09:41] \"\u001b[37mPOST /_dash-update-component HTTP/1.1\u001b[0m\" 200 -\n",
            "127.0.0.1 - - [12/Dec/2020 19:09:41] \"\u001b[37mPOST /_dash-update-component HTTP/1.1\u001b[0m\" 200 -\n",
            "127.0.0.1 - - [12/Dec/2020 19:09:41] \"\u001b[37mPOST /_dash-update-component HTTP/1.1\u001b[0m\" 200 -\n",
            "127.0.0.1 - - [12/Dec/2020 19:09:41] \"\u001b[37mPOST /_dash-update-component HTTP/1.1\u001b[0m\" 200 -\n",
            "127.0.0.1 - - [12/Dec/2020 19:09:41] \"\u001b[37mPOST /_dash-update-component HTTP/1.1\u001b[0m\" 200 -\n",
            "127.0.0.1 - - [12/Dec/2020 19:09:41] \"\u001b[37mPOST /_dash-update-component HTTP/1.1\u001b[0m\" 200 -\n"
          ],
          "name": "stdout"
        }
      ]
    }
  ]
}